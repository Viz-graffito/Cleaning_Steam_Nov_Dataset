{
 "cells": [
  {
   "cell_type": "markdown",
   "metadata": {},
   "source": [
    "# Steam Data\n",
    "## Overview\n",
    "This Data is from the most popular pc gaming site called 'https://store.steampowered.com' you can purchase copy of a game, trade in-game items, review a game, play miltiplayer-games with friends and many other things.\n",
    "\n",
    "### About the data\n",
    "this data have 100 obervations and 8 variables.\n",
    "<br>\n",
    "`Steam id` : It contains the unique id of the game.\n",
    "<br>\n",
    "`Game` : Name of the game.\n",
    "<br>\n",
    "`Current players` : Currently number of players playing that game.\n",
    "<br>\n",
    "`Peak players today` : Maximum number of player observed in a perticual game on the day of the acquisition of data.\n",
    "<br>\n",
    "`Release date` : Date on which game got released.\n",
    "<br>\n",
    "`Release year` : Year on which game got released.\n",
    "<br>\n",
    "`Review summary` : Review of a user in placed ordinal ['Mixed' < 'Very Positive' < 'Mostly Positive' < 'Overwhelmingly Positive'].\n",
    "<br>\n",
    "`Total Review` : Number of reviews given by user.\n",
    "<br>\n",
    "`Tags` : Genre of the game.\n",
    "\n",
    "# [EDA](#EDA)\n",
    "## Questions that are answered in this Analysis\n",
    "### [Univariate](#Univariate)\n",
    "* [Top 10 games according to current players and peak players today.](#top)\n",
    "* [Which game is the oldest?](#old)\n",
    "* [Which game is latest?](#new)\n",
    "* [Most reviewed game.](#high)\n",
    "* [Least reviewed game.](#low)\n",
    "* [Average Current players.](#avg)\n",
    "* [Average players according to the day the data got aquired](#avg1)\n",
    "* [Proportion of Reviews by the players.](#prop)\n",
    "* [In which year most game got released?](#rel)\n",
    "\n",
    "### [Bivariate](#Bivariate)\n",
    "* [As the time passes doest the current players increased?](#bi1)\n",
    "* [Those games got more Current players playing also tends to get more reviews?](#bi2)\n",
    "* [Those game got more total reviews also tends to get better review?](#bi3)\n",
    "\n",
    "\n"
   ]
  },
  {
   "cell_type": "code",
   "execution_count": 291,
   "metadata": {},
   "outputs": [],
   "source": [
    "import pandas as pd\n",
    "import numpy as np\n",
    "import matplotlib.pyplot as plt\n",
    "import seaborn as sns\n",
    "from scipy.stats import pearsonr\n",
    "from sklearn.preprocessing import StandardScaler"
   ]
  },
  {
   "cell_type": "markdown",
   "metadata": {},
   "source": [
    "### Overview"
   ]
  },
  {
   "cell_type": "code",
   "execution_count": 292,
   "metadata": {},
   "outputs": [
    {
     "data": {
      "text/html": [
       "<div>\n",
       "<style scoped>\n",
       "    .dataframe tbody tr th:only-of-type {\n",
       "        vertical-align: middle;\n",
       "    }\n",
       "\n",
       "    .dataframe tbody tr th {\n",
       "        vertical-align: top;\n",
       "    }\n",
       "\n",
       "    .dataframe thead th {\n",
       "        text-align: right;\n",
       "    }\n",
       "</style>\n",
       "<table border=\"1\" class=\"dataframe\">\n",
       "  <thead>\n",
       "    <tr style=\"text-align: right;\">\n",
       "      <th></th>\n",
       "      <th>Steam id</th>\n",
       "      <th>Game</th>\n",
       "      <th>Current players</th>\n",
       "      <th>Peak players today</th>\n",
       "      <th>Release date</th>\n",
       "      <th>Review summary</th>\n",
       "      <th>Total reviews</th>\n",
       "      <th>Tags</th>\n",
       "    </tr>\n",
       "  </thead>\n",
       "  <tbody>\n",
       "    <tr>\n",
       "      <th>0</th>\n",
       "      <td>730</td>\n",
       "      <td>Counter-Strike: Global Offensive</td>\n",
       "      <td>736875</td>\n",
       "      <td>775266</td>\n",
       "      <td>21 Aug 2012</td>\n",
       "      <td>Very Positive</td>\n",
       "      <td>5993058.0</td>\n",
       "      <td>FPS:Shooter:Multiplayer:Competitive:Action:Tea...</td>\n",
       "    </tr>\n",
       "    <tr>\n",
       "      <th>1</th>\n",
       "      <td>570</td>\n",
       "      <td>Dota 2</td>\n",
       "      <td>580933</td>\n",
       "      <td>649690</td>\n",
       "      <td>9 Jul 2013</td>\n",
       "      <td>Very Positive</td>\n",
       "      <td>1599180.0</td>\n",
       "      <td>Free to Play:MOBA:Multiplayer:Strategy:eSports...</td>\n",
       "    </tr>\n",
       "    <tr>\n",
       "      <th>2</th>\n",
       "      <td>1063730</td>\n",
       "      <td>New World</td>\n",
       "      <td>243815</td>\n",
       "      <td>307146</td>\n",
       "      <td>28 Sep 2021</td>\n",
       "      <td>Mostly Positive</td>\n",
       "      <td>145931.0</td>\n",
       "      <td>Massively Multiplayer:Open World:MMORPG:Advent...</td>\n",
       "    </tr>\n",
       "    <tr>\n",
       "      <th>3</th>\n",
       "      <td>1172470</td>\n",
       "      <td>Apex Legends</td>\n",
       "      <td>121313</td>\n",
       "      <td>245235</td>\n",
       "      <td>4 Nov 2020</td>\n",
       "      <td>Very Positive</td>\n",
       "      <td>338236.0</td>\n",
       "      <td>Free to Play:Battle Royale:Multiplayer:Shooter...</td>\n",
       "    </tr>\n",
       "    <tr>\n",
       "      <th>4</th>\n",
       "      <td>440</td>\n",
       "      <td>Team Fortress 2</td>\n",
       "      <td>104477</td>\n",
       "      <td>111884</td>\n",
       "      <td>10 Oct 2007</td>\n",
       "      <td>Very Positive</td>\n",
       "      <td>821568.0</td>\n",
       "      <td>Free to Play:Hero Shooter:Multiplayer:FPS:Shoo...</td>\n",
       "    </tr>\n",
       "  </tbody>\n",
       "</table>\n",
       "</div>"
      ],
      "text/plain": [
       "   Steam id                              Game  Current players  \\\n",
       "0       730  Counter-Strike: Global Offensive           736875   \n",
       "1       570                            Dota 2           580933   \n",
       "2   1063730                         New World           243815   \n",
       "3   1172470                      Apex Legends           121313   \n",
       "4       440                   Team Fortress 2           104477   \n",
       "\n",
       "   Peak players today Release date   Review summary  Total reviews  \\\n",
       "0              775266  21 Aug 2012    Very Positive      5993058.0   \n",
       "1              649690   9 Jul 2013    Very Positive      1599180.0   \n",
       "2              307146  28 Sep 2021  Mostly Positive       145931.0   \n",
       "3              245235   4 Nov 2020    Very Positive       338236.0   \n",
       "4              111884  10 Oct 2007    Very Positive       821568.0   \n",
       "\n",
       "                                                Tags  \n",
       "0  FPS:Shooter:Multiplayer:Competitive:Action:Tea...  \n",
       "1  Free to Play:MOBA:Multiplayer:Strategy:eSports...  \n",
       "2  Massively Multiplayer:Open World:MMORPG:Advent...  \n",
       "3  Free to Play:Battle Royale:Multiplayer:Shooter...  \n",
       "4  Free to Play:Hero Shooter:Multiplayer:FPS:Shoo...  "
      ]
     },
     "metadata": {},
     "output_type": "display_data"
    }
   ],
   "source": [
    "steam = pd.read_csv('steam_top_100.csv')\n",
    "display(steam.head())"
   ]
  },
  {
   "cell_type": "code",
   "execution_count": 293,
   "metadata": {},
   "outputs": [
    {
     "name": "stdout",
     "output_type": "stream",
     "text": [
      "(100, 8)\n"
     ]
    },
    {
     "data": {
      "text/plain": [
       "Steam id                int64\n",
       "Game                   object\n",
       "Current players         int64\n",
       "Peak players today      int64\n",
       "Release date           object\n",
       "Review summary         object\n",
       "Total reviews         float64\n",
       "Tags                   object\n",
       "dtype: object"
      ]
     },
     "execution_count": 293,
     "metadata": {},
     "output_type": "execute_result"
    }
   ],
   "source": [
    "#checking data type of each variable\n",
    "print(steam.shape)\n",
    "steam.dtypes"
   ]
  },
  {
   "cell_type": "markdown",
   "metadata": {},
   "source": [
    "### observations\n",
    "- Review summary is qualitative ordinal variable therefore its better to catagorize it. Also making new column of encoding.\n",
    "- Change release date to 'datetime' data type\n",
    "- One-Hot-Encoding to do the tags column"
   ]
  },
  {
   "cell_type": "markdown",
   "metadata": {},
   "source": [
    "### Review summary"
   ]
  },
  {
   "cell_type": "code",
   "execution_count": 294,
   "metadata": {},
   "outputs": [
    {
     "name": "stdout",
     "output_type": "stream",
     "text": [
      "['Very Positive' 'Mostly Positive' 'Mixed' 'Overwhelmingly Positive' nan]\n"
     ]
    }
   ],
   "source": [
    "#check the unique value of Review Summary\n",
    "print(steam['Review summary'].unique())"
   ]
  },
  {
   "cell_type": "code",
   "execution_count": 295,
   "metadata": {},
   "outputs": [
    {
     "name": "stdout",
     "output_type": "stream",
     "text": [
      "Steam id              0\n",
      "Game                  0\n",
      "Current players       0\n",
      "Peak players today    0\n",
      "Release date          1\n",
      "Review summary        1\n",
      "Total reviews         1\n",
      "Tags                  2\n",
      "dtype: int64\n"
     ]
    }
   ],
   "source": [
    "#check the NaN values\n",
    "print(steam.isnull().sum())"
   ]
  },
  {
   "cell_type": "markdown",
   "metadata": {},
   "source": [
    "- Getting rid of null values in Review summary\n",
    "- Replacing the null value to the most frequent value in 'Review summary' variable."
   ]
  },
  {
   "cell_type": "code",
   "execution_count": 296,
   "metadata": {},
   "outputs": [
    {
     "name": "stdout",
     "output_type": "stream",
     "text": [
      "0    1\n",
      "dtype: int8\n",
      "[ 1  2  0  3 -1]\n"
     ]
    }
   ],
   "source": [
    "\n",
    "#first categorize this variable\n",
    "steam['Review summary'] = pd.Categorical(steam['Review summary'], ['Mixed','Very Positive', 'Mostly Positive', 'Overwhelmingly Positive'], ordered = True)\n",
    "\n",
    "#make new variable for Categorical encoding\n",
    "steam['Review summary encoded'] = steam['Review summary'].cat.codes\n",
    "\n",
    "print(steam['Review summary encoded'].mode())\n",
    "print(steam['Review summary encoded'].unique())\n"
   ]
  },
  {
   "cell_type": "markdown",
   "metadata": {},
   "source": [
    "- 'Very Positive' turn out to be the mode in this variable."
   ]
  },
  {
   "cell_type": "code",
   "execution_count": 297,
   "metadata": {},
   "outputs": [
    {
     "name": "stdout",
     "output_type": "stream",
     "text": [
      "['Very Positive', 'Mostly Positive', 'Mixed', 'Overwhelmingly Positive']\n",
      "Categories (4, object): ['Mixed' < 'Very Positive' < 'Mostly Positive' < 'Overwhelmingly Positive']\n",
      "[ 1  2  0  3 -1]\n"
     ]
    }
   ],
   "source": [
    "#Replacing nan value to 'Very positive'\n",
    "steam = steam.fillna(value = {'Review summary': 'Very Positive'})\n",
    "steam['Review summary encoded'] = steam['Review summary encoded'].replace('-1',1)\n",
    "print(steam['Review summary'].unique())\n",
    "print(steam['Review summary encoded'].unique())"
   ]
  },
  {
   "cell_type": "code",
   "execution_count": 298,
   "metadata": {},
   "outputs": [
    {
     "name": "stdout",
     "output_type": "stream",
     "text": [
      "Steam id                     int64\n",
      "Game                        object\n",
      "Current players              int64\n",
      "Peak players today           int64\n",
      "Release date                object\n",
      "Review summary            category\n",
      "Total reviews              float64\n",
      "Tags                        object\n",
      "Review summary encoded        int8\n",
      "dtype: object\n"
     ]
    },
    {
     "data": {
      "text/html": [
       "<div>\n",
       "<style scoped>\n",
       "    .dataframe tbody tr th:only-of-type {\n",
       "        vertical-align: middle;\n",
       "    }\n",
       "\n",
       "    .dataframe tbody tr th {\n",
       "        vertical-align: top;\n",
       "    }\n",
       "\n",
       "    .dataframe thead th {\n",
       "        text-align: right;\n",
       "    }\n",
       "</style>\n",
       "<table border=\"1\" class=\"dataframe\">\n",
       "  <thead>\n",
       "    <tr style=\"text-align: right;\">\n",
       "      <th></th>\n",
       "      <th>Steam id</th>\n",
       "      <th>Game</th>\n",
       "      <th>Current players</th>\n",
       "      <th>Peak players today</th>\n",
       "      <th>Release date</th>\n",
       "      <th>Review summary</th>\n",
       "      <th>Total reviews</th>\n",
       "      <th>Tags</th>\n",
       "      <th>Review summary encoded</th>\n",
       "    </tr>\n",
       "  </thead>\n",
       "  <tbody>\n",
       "    <tr>\n",
       "      <th>0</th>\n",
       "      <td>730</td>\n",
       "      <td>Counter-Strike: Global Offensive</td>\n",
       "      <td>736875</td>\n",
       "      <td>775266</td>\n",
       "      <td>21 Aug 2012</td>\n",
       "      <td>Very Positive</td>\n",
       "      <td>5993058.0</td>\n",
       "      <td>FPS:Shooter:Multiplayer:Competitive:Action:Tea...</td>\n",
       "      <td>1</td>\n",
       "    </tr>\n",
       "    <tr>\n",
       "      <th>1</th>\n",
       "      <td>570</td>\n",
       "      <td>Dota 2</td>\n",
       "      <td>580933</td>\n",
       "      <td>649690</td>\n",
       "      <td>9 Jul 2013</td>\n",
       "      <td>Very Positive</td>\n",
       "      <td>1599180.0</td>\n",
       "      <td>Free to Play:MOBA:Multiplayer:Strategy:eSports...</td>\n",
       "      <td>1</td>\n",
       "    </tr>\n",
       "    <tr>\n",
       "      <th>2</th>\n",
       "      <td>1063730</td>\n",
       "      <td>New World</td>\n",
       "      <td>243815</td>\n",
       "      <td>307146</td>\n",
       "      <td>28 Sep 2021</td>\n",
       "      <td>Mostly Positive</td>\n",
       "      <td>145931.0</td>\n",
       "      <td>Massively Multiplayer:Open World:MMORPG:Advent...</td>\n",
       "      <td>2</td>\n",
       "    </tr>\n",
       "    <tr>\n",
       "      <th>3</th>\n",
       "      <td>1172470</td>\n",
       "      <td>Apex Legends</td>\n",
       "      <td>121313</td>\n",
       "      <td>245235</td>\n",
       "      <td>4 Nov 2020</td>\n",
       "      <td>Very Positive</td>\n",
       "      <td>338236.0</td>\n",
       "      <td>Free to Play:Battle Royale:Multiplayer:Shooter...</td>\n",
       "      <td>1</td>\n",
       "    </tr>\n",
       "    <tr>\n",
       "      <th>4</th>\n",
       "      <td>440</td>\n",
       "      <td>Team Fortress 2</td>\n",
       "      <td>104477</td>\n",
       "      <td>111884</td>\n",
       "      <td>10 Oct 2007</td>\n",
       "      <td>Very Positive</td>\n",
       "      <td>821568.0</td>\n",
       "      <td>Free to Play:Hero Shooter:Multiplayer:FPS:Shoo...</td>\n",
       "      <td>1</td>\n",
       "    </tr>\n",
       "  </tbody>\n",
       "</table>\n",
       "</div>"
      ],
      "text/plain": [
       "   Steam id                              Game  Current players  \\\n",
       "0       730  Counter-Strike: Global Offensive           736875   \n",
       "1       570                            Dota 2           580933   \n",
       "2   1063730                         New World           243815   \n",
       "3   1172470                      Apex Legends           121313   \n",
       "4       440                   Team Fortress 2           104477   \n",
       "\n",
       "   Peak players today Release date   Review summary  Total reviews  \\\n",
       "0              775266  21 Aug 2012    Very Positive      5993058.0   \n",
       "1              649690   9 Jul 2013    Very Positive      1599180.0   \n",
       "2              307146  28 Sep 2021  Mostly Positive       145931.0   \n",
       "3              245235   4 Nov 2020    Very Positive       338236.0   \n",
       "4              111884  10 Oct 2007    Very Positive       821568.0   \n",
       "\n",
       "                                                Tags  Review summary encoded  \n",
       "0  FPS:Shooter:Multiplayer:Competitive:Action:Tea...                       1  \n",
       "1  Free to Play:MOBA:Multiplayer:Strategy:eSports...                       1  \n",
       "2  Massively Multiplayer:Open World:MMORPG:Advent...                       2  \n",
       "3  Free to Play:Battle Royale:Multiplayer:Shooter...                       1  \n",
       "4  Free to Play:Hero Shooter:Multiplayer:FPS:Shoo...                       1  "
      ]
     },
     "execution_count": 298,
     "metadata": {},
     "output_type": "execute_result"
    }
   ],
   "source": [
    "print(steam.dtypes)\n",
    "steam.head()\n"
   ]
  },
  {
   "cell_type": "markdown",
   "metadata": {},
   "source": [
    "### Total Reviews\n",
    "- Getting rid of null values in total reviews.\n",
    "- Also changing data type to int."
   ]
  },
  {
   "cell_type": "code",
   "execution_count": 299,
   "metadata": {},
   "outputs": [
    {
     "name": "stdout",
     "output_type": "stream",
     "text": [
      "Steam id                  0\n",
      "Game                      0\n",
      "Current players           0\n",
      "Peak players today        0\n",
      "Release date              1\n",
      "Review summary            0\n",
      "Total reviews             0\n",
      "Tags                      2\n",
      "Review summary encoded    0\n",
      "dtype: int64\n"
     ]
    }
   ],
   "source": [
    "\n",
    "steam = steam.fillna(value={'Total reviews':steam['Total reviews'].median()})\n",
    "print(steam.isnull().sum())\n",
    "steam['Total reviews'] = steam['Total reviews'].astype('int')\n",
    "# steam.dtypes\n",
    "\n",
    "#Total review datatype is now int"
   ]
  },
  {
   "cell_type": "markdown",
   "metadata": {},
   "source": [
    "### Release date\n",
    "- Changing release date variable to datetime datatype.\n",
    "- Make new column just for release year."
   ]
  },
  {
   "cell_type": "code",
   "execution_count": 300,
   "metadata": {},
   "outputs": [
    {
     "name": "stdout",
     "output_type": "stream",
     "text": [
      "Steam id                  0\n",
      "Game                      0\n",
      "Current players           0\n",
      "Peak players today        0\n",
      "Release date              0\n",
      "Review summary            0\n",
      "Total reviews             0\n",
      "Tags                      2\n",
      "Review summary encoded    0\n",
      "dtype: int64\n",
      "Steam id                           int64\n",
      "Game                              object\n",
      "Current players                    int64\n",
      "Peak players today                 int64\n",
      "Release date              datetime64[ns]\n",
      "Review summary                  category\n",
      "Total reviews                      int32\n",
      "Tags                              object\n",
      "Review summary encoded              int8\n",
      "dtype: object\n"
     ]
    }
   ],
   "source": [
    "#filling na values in release date to unknown\n",
    "\n",
    "steam = steam.fillna(value={'Release date':'2012-01-01'})\n",
    "steam['Release date'] = pd.to_datetime(steam['Release date'])\n",
    "\n",
    "print(steam.isna().sum())\n",
    "print(steam.dtypes)"
   ]
  },
  {
   "cell_type": "code",
   "execution_count": 301,
   "metadata": {},
   "outputs": [
    {
     "data": {
      "text/html": [
       "<div>\n",
       "<style scoped>\n",
       "    .dataframe tbody tr th:only-of-type {\n",
       "        vertical-align: middle;\n",
       "    }\n",
       "\n",
       "    .dataframe tbody tr th {\n",
       "        vertical-align: top;\n",
       "    }\n",
       "\n",
       "    .dataframe thead th {\n",
       "        text-align: right;\n",
       "    }\n",
       "</style>\n",
       "<table border=\"1\" class=\"dataframe\">\n",
       "  <thead>\n",
       "    <tr style=\"text-align: right;\">\n",
       "      <th></th>\n",
       "      <th>Steam id</th>\n",
       "      <th>Game</th>\n",
       "      <th>Current players</th>\n",
       "      <th>Peak players today</th>\n",
       "      <th>Release date</th>\n",
       "      <th>Review summary</th>\n",
       "      <th>Total reviews</th>\n",
       "      <th>Tags</th>\n",
       "      <th>Review summary encoded</th>\n",
       "      <th>Release year</th>\n",
       "    </tr>\n",
       "  </thead>\n",
       "  <tbody>\n",
       "    <tr>\n",
       "      <th>0</th>\n",
       "      <td>730</td>\n",
       "      <td>Counter-Strike: Global Offensive</td>\n",
       "      <td>736875</td>\n",
       "      <td>775266</td>\n",
       "      <td>2012-08-21</td>\n",
       "      <td>Very Positive</td>\n",
       "      <td>5993058</td>\n",
       "      <td>FPS:Shooter:Multiplayer:Competitive:Action:Tea...</td>\n",
       "      <td>1</td>\n",
       "      <td>2012</td>\n",
       "    </tr>\n",
       "    <tr>\n",
       "      <th>1</th>\n",
       "      <td>570</td>\n",
       "      <td>Dota 2</td>\n",
       "      <td>580933</td>\n",
       "      <td>649690</td>\n",
       "      <td>2013-07-09</td>\n",
       "      <td>Very Positive</td>\n",
       "      <td>1599180</td>\n",
       "      <td>Free to Play:MOBA:Multiplayer:Strategy:eSports...</td>\n",
       "      <td>1</td>\n",
       "      <td>2013</td>\n",
       "    </tr>\n",
       "    <tr>\n",
       "      <th>2</th>\n",
       "      <td>1063730</td>\n",
       "      <td>New World</td>\n",
       "      <td>243815</td>\n",
       "      <td>307146</td>\n",
       "      <td>2021-09-28</td>\n",
       "      <td>Mostly Positive</td>\n",
       "      <td>145931</td>\n",
       "      <td>Massively Multiplayer:Open World:MMORPG:Advent...</td>\n",
       "      <td>2</td>\n",
       "      <td>2021</td>\n",
       "    </tr>\n",
       "    <tr>\n",
       "      <th>3</th>\n",
       "      <td>1172470</td>\n",
       "      <td>Apex Legends</td>\n",
       "      <td>121313</td>\n",
       "      <td>245235</td>\n",
       "      <td>2020-11-04</td>\n",
       "      <td>Very Positive</td>\n",
       "      <td>338236</td>\n",
       "      <td>Free to Play:Battle Royale:Multiplayer:Shooter...</td>\n",
       "      <td>1</td>\n",
       "      <td>2020</td>\n",
       "    </tr>\n",
       "    <tr>\n",
       "      <th>4</th>\n",
       "      <td>440</td>\n",
       "      <td>Team Fortress 2</td>\n",
       "      <td>104477</td>\n",
       "      <td>111884</td>\n",
       "      <td>2007-10-10</td>\n",
       "      <td>Very Positive</td>\n",
       "      <td>821568</td>\n",
       "      <td>Free to Play:Hero Shooter:Multiplayer:FPS:Shoo...</td>\n",
       "      <td>1</td>\n",
       "      <td>2007</td>\n",
       "    </tr>\n",
       "  </tbody>\n",
       "</table>\n",
       "</div>"
      ],
      "text/plain": [
       "   Steam id                              Game  Current players  \\\n",
       "0       730  Counter-Strike: Global Offensive           736875   \n",
       "1       570                            Dota 2           580933   \n",
       "2   1063730                         New World           243815   \n",
       "3   1172470                      Apex Legends           121313   \n",
       "4       440                   Team Fortress 2           104477   \n",
       "\n",
       "   Peak players today Release date   Review summary  Total reviews  \\\n",
       "0              775266   2012-08-21    Very Positive        5993058   \n",
       "1              649690   2013-07-09    Very Positive        1599180   \n",
       "2              307146   2021-09-28  Mostly Positive         145931   \n",
       "3              245235   2020-11-04    Very Positive         338236   \n",
       "4              111884   2007-10-10    Very Positive         821568   \n",
       "\n",
       "                                                Tags  Review summary encoded  \\\n",
       "0  FPS:Shooter:Multiplayer:Competitive:Action:Tea...                       1   \n",
       "1  Free to Play:MOBA:Multiplayer:Strategy:eSports...                       1   \n",
       "2  Massively Multiplayer:Open World:MMORPG:Advent...                       2   \n",
       "3  Free to Play:Battle Royale:Multiplayer:Shooter...                       1   \n",
       "4  Free to Play:Hero Shooter:Multiplayer:FPS:Shoo...                       1   \n",
       "\n",
       "   Release year  \n",
       "0          2012  \n",
       "1          2013  \n",
       "2          2021  \n",
       "3          2020  \n",
       "4          2007  "
      ]
     },
     "metadata": {},
     "output_type": "display_data"
    }
   ],
   "source": [
    "#making new column just for release year\n",
    "steam['Release year'] = steam['Release date'].dt.year\n",
    "display(steam.head())"
   ]
  },
  {
   "cell_type": "code",
   "execution_count": 302,
   "metadata": {},
   "outputs": [
    {
     "data": {
      "text/html": [
       "<div>\n",
       "<style scoped>\n",
       "    .dataframe tbody tr th:only-of-type {\n",
       "        vertical-align: middle;\n",
       "    }\n",
       "\n",
       "    .dataframe tbody tr th {\n",
       "        vertical-align: top;\n",
       "    }\n",
       "\n",
       "    .dataframe thead th {\n",
       "        text-align: right;\n",
       "    }\n",
       "</style>\n",
       "<table border=\"1\" class=\"dataframe\">\n",
       "  <thead>\n",
       "    <tr style=\"text-align: right;\">\n",
       "      <th></th>\n",
       "      <th>Steam id</th>\n",
       "      <th>Game</th>\n",
       "      <th>Current players</th>\n",
       "      <th>Peak players today</th>\n",
       "      <th>Release date</th>\n",
       "      <th>Release year</th>\n",
       "      <th>Review summary</th>\n",
       "      <th>Review summary encoded</th>\n",
       "      <th>Total reviews</th>\n",
       "      <th>Tags</th>\n",
       "    </tr>\n",
       "  </thead>\n",
       "  <tbody>\n",
       "    <tr>\n",
       "      <th>0</th>\n",
       "      <td>730</td>\n",
       "      <td>Counter-Strike: Global Offensive</td>\n",
       "      <td>736875</td>\n",
       "      <td>775266</td>\n",
       "      <td>2012-08-21</td>\n",
       "      <td>2012</td>\n",
       "      <td>Very Positive</td>\n",
       "      <td>1</td>\n",
       "      <td>5993058</td>\n",
       "      <td>FPS:Shooter:Multiplayer:Competitive:Action:Tea...</td>\n",
       "    </tr>\n",
       "    <tr>\n",
       "      <th>1</th>\n",
       "      <td>570</td>\n",
       "      <td>Dota 2</td>\n",
       "      <td>580933</td>\n",
       "      <td>649690</td>\n",
       "      <td>2013-07-09</td>\n",
       "      <td>2013</td>\n",
       "      <td>Very Positive</td>\n",
       "      <td>1</td>\n",
       "      <td>1599180</td>\n",
       "      <td>Free to Play:MOBA:Multiplayer:Strategy:eSports...</td>\n",
       "    </tr>\n",
       "    <tr>\n",
       "      <th>2</th>\n",
       "      <td>1063730</td>\n",
       "      <td>New World</td>\n",
       "      <td>243815</td>\n",
       "      <td>307146</td>\n",
       "      <td>2021-09-28</td>\n",
       "      <td>2021</td>\n",
       "      <td>Mostly Positive</td>\n",
       "      <td>2</td>\n",
       "      <td>145931</td>\n",
       "      <td>Massively Multiplayer:Open World:MMORPG:Advent...</td>\n",
       "    </tr>\n",
       "    <tr>\n",
       "      <th>3</th>\n",
       "      <td>1172470</td>\n",
       "      <td>Apex Legends</td>\n",
       "      <td>121313</td>\n",
       "      <td>245235</td>\n",
       "      <td>2020-11-04</td>\n",
       "      <td>2020</td>\n",
       "      <td>Very Positive</td>\n",
       "      <td>1</td>\n",
       "      <td>338236</td>\n",
       "      <td>Free to Play:Battle Royale:Multiplayer:Shooter...</td>\n",
       "    </tr>\n",
       "    <tr>\n",
       "      <th>4</th>\n",
       "      <td>440</td>\n",
       "      <td>Team Fortress 2</td>\n",
       "      <td>104477</td>\n",
       "      <td>111884</td>\n",
       "      <td>2007-10-10</td>\n",
       "      <td>2007</td>\n",
       "      <td>Very Positive</td>\n",
       "      <td>1</td>\n",
       "      <td>821568</td>\n",
       "      <td>Free to Play:Hero Shooter:Multiplayer:FPS:Shoo...</td>\n",
       "    </tr>\n",
       "  </tbody>\n",
       "</table>\n",
       "</div>"
      ],
      "text/plain": [
       "   Steam id                              Game  Current players  \\\n",
       "0       730  Counter-Strike: Global Offensive           736875   \n",
       "1       570                            Dota 2           580933   \n",
       "2   1063730                         New World           243815   \n",
       "3   1172470                      Apex Legends           121313   \n",
       "4       440                   Team Fortress 2           104477   \n",
       "\n",
       "   Peak players today Release date  Release year   Review summary  \\\n",
       "0              775266   2012-08-21          2012    Very Positive   \n",
       "1              649690   2013-07-09          2013    Very Positive   \n",
       "2              307146   2021-09-28          2021  Mostly Positive   \n",
       "3              245235   2020-11-04          2020    Very Positive   \n",
       "4              111884   2007-10-10          2007    Very Positive   \n",
       "\n",
       "   Review summary encoded  Total reviews  \\\n",
       "0                       1        5993058   \n",
       "1                       1        1599180   \n",
       "2                       2         145931   \n",
       "3                       1         338236   \n",
       "4                       1         821568   \n",
       "\n",
       "                                                Tags  \n",
       "0  FPS:Shooter:Multiplayer:Competitive:Action:Tea...  \n",
       "1  Free to Play:MOBA:Multiplayer:Strategy:eSports...  \n",
       "2  Massively Multiplayer:Open World:MMORPG:Advent...  \n",
       "3  Free to Play:Battle Royale:Multiplayer:Shooter...  \n",
       "4  Free to Play:Hero Shooter:Multiplayer:FPS:Shoo...  "
      ]
     },
     "metadata": {},
     "output_type": "display_data"
    }
   ],
   "source": [
    "#reordering columns\n",
    "name = ['Steam id','Game','Current players','Peak players today','Release date','Release year','Review summary','Review summary encoded','Total reviews','Tags']\n",
    "steam = steam.reindex(columns = name)\n",
    "display(steam.head())"
   ]
  },
  {
   "cell_type": "markdown",
   "metadata": {},
   "source": [
    "# EDA<a class=\"anchor\" id=\"EDA\"></a>"
   ]
  },
  {
   "cell_type": "markdown",
   "metadata": {},
   "source": [
    "Top 10 games according to Current players.<a class=\"anchor\" id=\"top\"></a>"
   ]
  },
  {
   "cell_type": "code",
   "execution_count": 332,
   "metadata": {},
   "outputs": [
    {
     "data": {
      "image/png": "[encoded data removed]",
      "text/plain": [
       "<Figure size 1440x720 with 1 Axes>"
      ]
     },
     "metadata": {
      "needs_background": "light"
     },
     "output_type": "display_data"
    },
    {
     "name": "stdout",
     "output_type": "stream",
     "text": [
      "Counter-strike: Global offensive is the top game\n"
     ]
    }
   ],
   "source": [
    "top = steam.sort_values('Current players', ascending= False).head(10)\n",
    "\n",
    "plt.figure(figsize= (20,10))\n",
    "sns.barplot(x = top['Current players'], y = top.Game)\n",
    "plt.title('Top 10 Games According to Current Players')\n",
    "plt.show()\n",
    "\n",
    "print('Counter-strike: Global offensive is the top game')"
   ]
  },
  {
   "cell_type": "code",
   "execution_count": 331,
   "metadata": {},
   "outputs": [
    {
     "data": {
      "image/png": "[encoded data removed]",
      "text/plain": [
       "<Figure size 1440x720 with 1 Axes>"
      ]
     },
     "metadata": {
      "needs_background": "light"
     },
     "output_type": "display_data"
    },
    {
     "name": "stdout",
     "output_type": "stream",
     "text": [
      "According to the date when data is aquired 'Counter-Strike: Global Offensive' is the most popular game.\n"
     ]
    }
   ],
   "source": [
    "top = steam.sort_values('Peak players today', ascending= False).head(10)\n",
    "\n",
    "plt.figure(figsize= (20,10))\n",
    "sns.barplot(x = top['Peak players today'], y = top.Game)\n",
    "plt.title('Top 10 Games According to Peak players today')\n",
    "plt.show()\n",
    "\n",
    "print('According to the date when data is aquired \\'Counter-Strike: Global Offensive\\' is the most popular game.')"
   ]
  },
  {
   "cell_type": "markdown",
   "metadata": {},
   "source": [
    "- Which Game is the oldest Release?<a class=\"anchor\" id=\"old\"></a>"
   ]
  },
  {
   "cell_type": "code",
   "execution_count": 305,
   "metadata": {},
   "outputs": [
    {
     "data": {
      "text/html": [
       "<div>\n",
       "<style scoped>\n",
       "    .dataframe tbody tr th:only-of-type {\n",
       "        vertical-align: middle;\n",
       "    }\n",
       "\n",
       "    .dataframe tbody tr th {\n",
       "        vertical-align: top;\n",
       "    }\n",
       "\n",
       "    .dataframe thead th {\n",
       "        text-align: right;\n",
       "    }\n",
       "</style>\n",
       "<table border=\"1\" class=\"dataframe\">\n",
       "  <thead>\n",
       "    <tr style=\"text-align: right;\">\n",
       "      <th></th>\n",
       "      <th>Steam id</th>\n",
       "      <th>Game</th>\n",
       "      <th>Current players</th>\n",
       "      <th>Peak players today</th>\n",
       "      <th>Release date</th>\n",
       "      <th>Release year</th>\n",
       "      <th>Review summary</th>\n",
       "      <th>Review summary encoded</th>\n",
       "      <th>Total reviews</th>\n",
       "      <th>Tags</th>\n",
       "    </tr>\n",
       "  </thead>\n",
       "  <tbody>\n",
       "    <tr>\n",
       "      <th>55</th>\n",
       "      <td>10</td>\n",
       "      <td>Counter-Strike</td>\n",
       "      <td>15244</td>\n",
       "      <td>15752</td>\n",
       "      <td>2000-11-01</td>\n",
       "      <td>2000</td>\n",
       "      <td>Overwhelmingly Positive</td>\n",
       "      <td>3</td>\n",
       "      <td>111163</td>\n",
       "      <td>Action:FPS:Multiplayer:Shooter:Classic:Team-Ba...</td>\n",
       "    </tr>\n",
       "  </tbody>\n",
       "</table>\n",
       "</div>"
      ],
      "text/plain": [
       "    Steam id            Game  Current players  Peak players today  \\\n",
       "55        10  Counter-Strike            15244               15752   \n",
       "\n",
       "   Release date  Release year           Review summary  \\\n",
       "55   2000-11-01          2000  Overwhelmingly Positive   \n",
       "\n",
       "    Review summary encoded  Total reviews  \\\n",
       "55                       3         111163   \n",
       "\n",
       "                                                 Tags  \n",
       "55  Action:FPS:Multiplayer:Shooter:Classic:Team-Ba...  "
      ]
     },
     "metadata": {},
     "output_type": "display_data"
    },
    {
     "name": "stdout",
     "output_type": "stream",
     "text": [
      "'Counter-Strke' is the oldest game which was released in 2000-11-01\n"
     ]
    }
   ],
   "source": [
    "display(steam.sort_values('Release date', ascending= True)[0:1])\n",
    "\n",
    "print('\\'Counter-Strke\\' is the oldest game which was released in 2000-11-01')"
   ]
  },
  {
   "cell_type": "markdown",
   "metadata": {},
   "source": [
    "- Which Game is the newest Release?<a class=\"anchor\" id=\"new\"></a>"
   ]
  },
  {
   "cell_type": "code",
   "execution_count": 306,
   "metadata": {},
   "outputs": [
    {
     "data": {
      "text/html": [
       "<div>\n",
       "<style scoped>\n",
       "    .dataframe tbody tr th:only-of-type {\n",
       "        vertical-align: middle;\n",
       "    }\n",
       "\n",
       "    .dataframe tbody tr th {\n",
       "        vertical-align: top;\n",
       "    }\n",
       "\n",
       "    .dataframe thead th {\n",
       "        text-align: right;\n",
       "    }\n",
       "</style>\n",
       "<table border=\"1\" class=\"dataframe\">\n",
       "  <thead>\n",
       "    <tr style=\"text-align: right;\">\n",
       "      <th></th>\n",
       "      <th>Steam id</th>\n",
       "      <th>Game</th>\n",
       "      <th>Current players</th>\n",
       "      <th>Peak players today</th>\n",
       "      <th>Release date</th>\n",
       "      <th>Release year</th>\n",
       "      <th>Review summary</th>\n",
       "      <th>Review summary encoded</th>\n",
       "      <th>Total reviews</th>\n",
       "      <th>Tags</th>\n",
       "    </tr>\n",
       "  </thead>\n",
       "  <tbody>\n",
       "    <tr>\n",
       "      <th>18</th>\n",
       "      <td>1569040</td>\n",
       "      <td>Football Manager 2022</td>\n",
       "      <td>40936</td>\n",
       "      <td>44497</td>\n",
       "      <td>2021-11-09</td>\n",
       "      <td>2021</td>\n",
       "      <td>Very Positive</td>\n",
       "      <td>1</td>\n",
       "      <td>1942</td>\n",
       "      <td>Sports:Management:Real Time Tactics:Soccer:Sim...</td>\n",
       "    </tr>\n",
       "  </tbody>\n",
       "</table>\n",
       "</div>"
      ],
      "text/plain": [
       "    Steam id                   Game  Current players  Peak players today  \\\n",
       "18   1569040  Football Manager 2022            40936               44497   \n",
       "\n",
       "   Release date  Release year Review summary  Review summary encoded  \\\n",
       "18   2021-11-09          2021  Very Positive                       1   \n",
       "\n",
       "    Total reviews                                               Tags  \n",
       "18           1942  Sports:Management:Real Time Tactics:Soccer:Sim...  "
      ]
     },
     "metadata": {},
     "output_type": "display_data"
    },
    {
     "name": "stdout",
     "output_type": "stream",
     "text": [
      "'Football Manager 2022' is the newest game which was released in 2021-11-09\n"
     ]
    }
   ],
   "source": [
    "display(steam.sort_values('Release date', ascending= False)[0:1])\n",
    "\n",
    "print('\\'Football Manager 2022\\' is the newest game which was released in 2021-11-09')"
   ]
  },
  {
   "cell_type": "markdown",
   "metadata": {},
   "source": [
    "- Which game got the Highest Number of Reviews?<a class=\"anchor\" id=\"high\"></a>"
   ]
  },
  {
   "cell_type": "code",
   "execution_count": 307,
   "metadata": {},
   "outputs": [
    {
     "name": "stdout",
     "output_type": "stream",
     "text": [
      "                                Game  Total reviews\n",
      "0   Counter-Strike: Global Offensive        5993058\n",
      "1                             Dota 2        1599180\n",
      "5                PUBG: BATTLEGROUNDS        1530629\n",
      "8                 Grand Theft Auto V        1102837\n",
      "17    Tom Clancy's Rainbow Six Siege         831791\n",
      "4                    Team Fortress 2         821568\n",
      "31                          Terraria         657407\n",
      "30                       Garry's Mod         640525\n",
      "6                               Rust         554535\n",
      "47          The Witcher 3: Wild Hunt         514840\n"
     ]
    },
    {
     "data": {
      "image/png": "[encoded data removed]",
      "text/plain": [
       "<Figure size 1440x720 with 1 Axes>"
      ]
     },
     "metadata": {
      "needs_background": "light"
     },
     "output_type": "display_data"
    }
   ],
   "source": [
    "top1 = steam.sort_values('Total reviews', ascending= False).head(10)\n",
    "print(top1[['Game','Total reviews']])\n",
    "\n",
    "plt.figure(figsize= (20,10))\n",
    "ax = plt.subplot(1,1,1)\n",
    "ax = sns.barplot(x = top1.Game, y = top1['Total reviews'])\n",
    "ax.set_yticks([500000,1000000,1500000,2000000,3000000,4000000,5000000,6000000])\n",
    "ax.set_yticklabels([500000,1000000,1500000,2000000,3000000,4000000,5000000,6000000])\n",
    "plt.xticks(rotation= 50)\n",
    "plt.title()\n",
    "plt.show()"
   ]
  },
  {
   "cell_type": "markdown",
   "metadata": {},
   "source": [
    "- Which games got lowest number of reviews?<a class=\"anchor\" id=\"low\"></a>"
   ]
  },
  {
   "cell_type": "code",
   "execution_count": 308,
   "metadata": {},
   "outputs": [
    {
     "name": "stdout",
     "output_type": "stream",
     "text": [
      "                                  Game  Total reviews\n",
      "13     Lost Ark Closed Technical Beta            1433\n",
      "18               Football Manager 2022           1942\n",
      "7                                 MIR4           5344\n",
      "96                            NBA 2K22           6266\n",
      "19                             FIFA 22           8969\n",
      "77                             F1 2021           9492\n",
      "94  Pathfinder: Wrath of the Righteous           9550\n",
      "20                   Age of Empires IV           9709\n",
      "80                        Back 4 Blood          12960\n",
      "33               Football Manager 2021          13031\n"
     ]
    },
    {
     "data": {
      "image/png": "[encoded data removed]",
      "text/plain": [
       "<Figure size 1440x720 with 1 Axes>"
      ]
     },
     "metadata": {
      "needs_background": "light"
     },
     "output_type": "display_data"
    }
   ],
   "source": [
    "top2 = steam.sort_values('Total reviews', ascending= True).head(10)\n",
    "print(top2[['Game','Total reviews']])\n",
    "\n",
    "plt.figure(figsize= (20,10))\n",
    "ax = plt.subplot(1,1,1)\n",
    "ax = sns.barplot(x = top2.Game, y = top2['Total reviews'])\n",
    "ax.set_yticks([0,1000,2000,3000,4000,5000,6000,7000,8000,9000,10000,11000,12000,13000,14000])\n",
    "ax.set_yticklabels([0,1000,2000,3000,4000,5000,6000,7000,8000,9000,10000,11000,12000,13000,14000])\n",
    "plt.xticks(rotation= 50)\n",
    "plt.show()"
   ]
  },
  {
   "cell_type": "markdown",
   "metadata": {},
   "source": [
    "- Average Current players.<a class=\"anchor\" id=\"avg\"></a>"
   ]
  },
  {
   "cell_type": "code",
   "execution_count": 309,
   "metadata": {},
   "outputs": [
    {
     "name": "stdout",
     "output_type": "stream",
     "text": [
      "count       100.000000\n",
      "mean      39954.370000\n",
      "std       94808.092861\n",
      "min        6724.000000\n",
      "25%       10018.500000\n",
      "50%       18012.000000\n",
      "75%       32333.500000\n",
      "max      736875.000000\n",
      "Name: Current players, dtype: float64\n"
     ]
    }
   ],
   "source": [
    "print(steam['Current players'].describe())"
   ]
  },
  {
   "cell_type": "code",
   "execution_count": 336,
   "metadata": {},
   "outputs": [
    {
     "data": {
      "text/plain": [
       "<function matplotlib.pyplot.show(close=None, block=None)>"
      ]
     },
     "execution_count": 336,
     "metadata": {},
     "output_type": "execute_result"
    },
    {
     "data": {
      "image/png": "[encoded data removed]",
      "text/plain": [
       "<Figure size 576x720 with 1 Axes>"
      ]
     },
     "metadata": {
      "needs_background": "light"
     },
     "output_type": "display_data"
    }
   ],
   "source": [
    "plt.figure(figsize=(8,10))\n",
    "sns.boxplot(data = steam['Current players'])\n",
    "plt.ylabel('Number of players')\n",
    "plt.xlabel('Current players')\n",
    "plt.title('Current players')\n",
    "plt.show"
   ]
  },
  {
   "cell_type": "code",
   "execution_count": 337,
   "metadata": {},
   "outputs": [
    {
     "data": {
      "image/png": "[encoded data removed]",
      "text/plain": [
       "<Figure size 1440x720 with 1 Axes>"
      ]
     },
     "metadata": {
      "needs_background": "light"
     },
     "output_type": "display_data"
    },
    {
     "name": "stdout",
     "output_type": "stream",
     "text": [
      "By looking at the central tendency of the data mean is 39954 and median is 18012 with the high standard variance of '94808', also further analysing the box plot and historam, We can see that data is highly skewed on the right and side because of many outliers plesent in the data therefore we can not go with the mean of the data, by looking at the historam and IQR the highest frequency of the players is between 10000 to 40000 with that we can assume that the Average Current player more likely to get around the mode which is '18012'\n"
     ]
    }
   ],
   "source": [
    "plt.figure(figsize=(20,10))\n",
    "plt.axis([0,100000,0,60])\n",
    "sns.histplot(steam['Current players'])\n",
    "plt.title('HISTOGRAM OF CURRENT PLAYERS')\n",
    "plt.show()\n",
    "\n",
    "print('By looking at the central tendency of the data mean is 39954 and median is 18012 with the high standard variance of \\'94808\\', also further analysing the box plot and historam, We can see that data is highly skewed on the right and side because of many outliers plesent in the data therefore we can not go with the mean of the data, by looking at the historam and IQR the highest frequency of the players is between 10000 to 40000 with that we can assume that the Average Current player more likely to get around the mode which is \\'18012\\'')"
   ]
  },
  {
   "cell_type": "markdown",
   "metadata": {},
   "source": [
    "Average number of players in a day.<a class=\"anchor\" id=\"avg1\"></a>"
   ]
  },
  {
   "cell_type": "code",
   "execution_count": 312,
   "metadata": {},
   "outputs": [
    {
     "data": {
      "text/plain": [
       "count       100.000000\n",
       "mean      52364.190000\n",
       "std      106888.744819\n",
       "min        8707.000000\n",
       "25%       15032.750000\n",
       "50%       24493.000000\n",
       "75%       43076.000000\n",
       "max      775266.000000\n",
       "Name: Peak players today, dtype: float64"
      ]
     },
     "execution_count": 312,
     "metadata": {},
     "output_type": "execute_result"
    }
   ],
   "source": [
    "steam['Peak players today'].describe()"
   ]
  },
  {
   "cell_type": "code",
   "execution_count": 339,
   "metadata": {},
   "outputs": [
    {
     "data": {
      "image/png": "[encoded data removed]",
      "text/plain": [
       "<Figure size 576x720 with 1 Axes>"
      ]
     },
     "metadata": {
      "needs_background": "light"
     },
     "output_type": "display_data"
    }
   ],
   "source": [
    "plt.figure(figsize=(8,10))\n",
    "sns.boxplot(data = steam['Peak players today'])\n",
    "plt.title('Peak players Today')\n",
    "plt.ylabel('Number of players')\n",
    "plt.xlabel('Peak players Today')\n",
    "plt.show()"
   ]
  },
  {
   "cell_type": "code",
   "execution_count": 340,
   "metadata": {},
   "outputs": [
    {
     "data": {
      "image/png": "[encoded data removed]",
      "text/plain": [
       "<Figure size 1440x720 with 1 Axes>"
      ]
     },
     "metadata": {
      "needs_background": "light"
     },
     "output_type": "display_data"
    },
    {
     "name": "stdout",
     "output_type": "stream",
     "text": [
      "like 'Current players' the 'Peak players today' also higly skewed on the right with the high standard deviation of '106888', therefore we can not assume the mean as the average. After further analysing the boxplot and the histogram we can see that the highest freqency of the plyayers in a day is between 10000 to 30000 by looking at that we can conclude the Average player in a day is more likely to be median wich is '24493'\n"
     ]
    }
   ],
   "source": [
    "plt.figure(figsize=(20,10))\n",
    "plt.axis([0,100000,0,60])\n",
    "sns.histplot(steam['Peak players today'])\n",
    "plt.title('HISTOGRAM OF PEAK PLAYERS TODAY')\n",
    "plt.show()\n",
    "\n",
    "print('like \\'Current players\\' the \\'Peak players today\\' also higly skewed on the right with the high standard deviation of \\'106888\\', therefore we can not assume the mean as the average. After further analysing the boxplot and the histogram we can see that the highest freqency of the plyayers in a day is between 10000 to 30000 by looking at that we can conclude the Average player in a day is more likely to be median wich is \\'24493\\'')"
   ]
  },
  {
   "cell_type": "markdown",
   "metadata": {},
   "source": [
    "- What is the most common review by the player and in how much propotion?<a class=\"anchor\" id=\"prop\"></a>"
   ]
  },
  {
   "cell_type": "code",
   "execution_count": 315,
   "metadata": {},
   "outputs": [
    {
     "name": "stdout",
     "output_type": "stream",
     "text": [
      "Very Positive              59\n",
      "Overwhelmingly Positive    25\n",
      "Mostly Positive            12\n",
      "Mixed                       4\n",
      "Name: Review summary, dtype: int64\n",
      "Very Positive              0.59\n",
      "Overwhelmingly Positive    0.25\n",
      "Mostly Positive            0.12\n",
      "Mixed                      0.04\n",
      "Name: Review summary, dtype: float64\n",
      "Most common Review given by the players is Very possitive which are 59 in the poportion of 59% among other reviews.\n"
     ]
    }
   ],
   "source": [
    "rev = steam['Review summary'].value_counts()\n",
    "print(rev)\n",
    "prop = rev/len(steam)\n",
    "print(prop)\n",
    "\n",
    "print('Most common Review given by the players is Very possitive which are 59 in the poportion of 59% among other reviews.')\n"
   ]
  },
  {
   "cell_type": "code",
   "execution_count": 316,
   "metadata": {},
   "outputs": [
    {
     "data": {
      "image/png": "[encoded data removed]",
      "text/plain": [
       "<Figure size 1440x720 with 1 Axes>"
      ]
     },
     "metadata": {},
     "output_type": "display_data"
    }
   ],
   "source": [
    "\n",
    "plt.figure(figsize=(20,10))\n",
    "plt.pie(rev, labels= rev.index,autopct='%.0f%%',wedgeprops={'linewidth': 3.0, 'edgecolor': 'white'}, textprops={'size': 'x-large'})\n",
    "plt.legend(label)\n",
    "plt.title('Proportion of review by the players')\n",
    "plt.axis('equal')\n",
    "plt.show()"
   ]
  },
  {
   "cell_type": "markdown",
   "metadata": {},
   "source": [
    "In which year most games got released?<a class=\"anchor\" id=\"rel\"></a>"
   ]
  },
  {
   "cell_type": "code",
   "execution_count": 317,
   "metadata": {},
   "outputs": [
    {
     "name": "stdout",
     "output_type": "stream",
     "text": [
      "[2012 2013 2021 2020 2007 2017 2018 2015 2016 2019 2014 2006 2011 2010\n",
      " 2000 2009]\n",
      "2020    18\n",
      "2021    16\n",
      "2017    11\n",
      "2018    11\n",
      "2016    10\n",
      "2013     8\n",
      "2015     8\n",
      "2019     5\n",
      "2014     4\n",
      "2012     3\n",
      "2007     1\n",
      "2006     1\n",
      "2011     1\n",
      "2010     1\n",
      "2000     1\n",
      "2009     1\n",
      "Name: Release year, dtype: int64\n"
     ]
    }
   ],
   "source": [
    "print(steam['Release year'].unique())\n",
    "year = steam['Release year'].value_counts()\n",
    "print(year)\n"
   ]
  },
  {
   "cell_type": "code",
   "execution_count": 341,
   "metadata": {},
   "outputs": [
    {
     "data": {
      "image/png": "[encoded data removed]",
      "text/plain": [
       "<Figure size 1440x720 with 1 Axes>"
      ]
     },
     "metadata": {
      "needs_background": "light"
     },
     "output_type": "display_data"
    }
   ],
   "source": [
    "plt.figure(figsize=(20,10))\n",
    "sns.barplot(x= year.index ,y = year)\n",
    "plt.xticks(rotation=50)\n",
    "plt.title('Number of game released each year.')\n",
    "plt.xlabel('Year')\n",
    "plt.ylabel('Number of games')\n",
    "plt.show()"
   ]
  },
  {
   "cell_type": "markdown",
   "metadata": {},
   "source": [
    "## Bivariant"
   ]
  },
  {
   "cell_type": "markdown",
   "metadata": {},
   "source": [
    "- Does current number of players increases as the new game releases in steam?<a class=\"anchor\" id=\"bi1\"></a>"
   ]
  },
  {
   "cell_type": "code",
   "execution_count": 319,
   "metadata": {},
   "outputs": [
    {
     "data": {
      "text/html": [
       "<div>\n",
       "<style scoped>\n",
       "    .dataframe tbody tr th:only-of-type {\n",
       "        vertical-align: middle;\n",
       "    }\n",
       "\n",
       "    .dataframe tbody tr th {\n",
       "        vertical-align: top;\n",
       "    }\n",
       "\n",
       "    .dataframe thead th {\n",
       "        text-align: right;\n",
       "    }\n",
       "</style>\n",
       "<table border=\"1\" class=\"dataframe\">\n",
       "  <thead>\n",
       "    <tr style=\"text-align: right;\">\n",
       "      <th></th>\n",
       "      <th>Steam id</th>\n",
       "      <th>Game</th>\n",
       "      <th>Current players</th>\n",
       "      <th>Peak players today</th>\n",
       "      <th>Release date</th>\n",
       "      <th>Release year</th>\n",
       "      <th>Review summary</th>\n",
       "      <th>Review summary encoded</th>\n",
       "      <th>Total reviews</th>\n",
       "      <th>Tags</th>\n",
       "    </tr>\n",
       "  </thead>\n",
       "  <tbody>\n",
       "    <tr>\n",
       "      <th>0</th>\n",
       "      <td>730</td>\n",
       "      <td>Counter-Strike: Global Offensive</td>\n",
       "      <td>736875</td>\n",
       "      <td>775266</td>\n",
       "      <td>2012-08-21</td>\n",
       "      <td>2012</td>\n",
       "      <td>Very Positive</td>\n",
       "      <td>1</td>\n",
       "      <td>5993058</td>\n",
       "      <td>FPS:Shooter:Multiplayer:Competitive:Action:Tea...</td>\n",
       "    </tr>\n",
       "    <tr>\n",
       "      <th>1</th>\n",
       "      <td>570</td>\n",
       "      <td>Dota 2</td>\n",
       "      <td>580933</td>\n",
       "      <td>649690</td>\n",
       "      <td>2013-07-09</td>\n",
       "      <td>2013</td>\n",
       "      <td>Very Positive</td>\n",
       "      <td>1</td>\n",
       "      <td>1599180</td>\n",
       "      <td>Free to Play:MOBA:Multiplayer:Strategy:eSports...</td>\n",
       "    </tr>\n",
       "  </tbody>\n",
       "</table>\n",
       "</div>"
      ],
      "text/plain": [
       "   Steam id                              Game  Current players  \\\n",
       "0       730  Counter-Strike: Global Offensive           736875   \n",
       "1       570                            Dota 2           580933   \n",
       "\n",
       "   Peak players today Release date  Release year Review summary  \\\n",
       "0              775266   2012-08-21          2012  Very Positive   \n",
       "1              649690   2013-07-09          2013  Very Positive   \n",
       "\n",
       "   Review summary encoded  Total reviews  \\\n",
       "0                       1        5993058   \n",
       "1                       1        1599180   \n",
       "\n",
       "                                                Tags  \n",
       "0  FPS:Shooter:Multiplayer:Competitive:Action:Tea...  \n",
       "1  Free to Play:MOBA:Multiplayer:Strategy:eSports...  "
      ]
     },
     "metadata": {},
     "output_type": "display_data"
    },
    {
     "data": {
      "image/png": "[encoded data removed]",
      "text/plain": [
       "<Figure size 1440x720 with 1 Axes>"
      ]
     },
     "metadata": {
      "needs_background": "light"
     },
     "output_type": "display_data"
    },
    {
     "name": "stdout",
     "output_type": "stream",
     "text": [
      "After analysing the data, there is no evidance that there is increase in the current players as the time goes, Though we can see there is sudden huge rise of current players in '2012-08-21' for the game 'Counter-Strike: Global Offensive' with the maximum current player of 736875, another surge of player after this is for the game called 'Dota 2' with the maximum current players of '649690' on the date of '2013-07-09'\n"
     ]
    }
   ],
   "source": [
    "display(steam.sort_values('Current players',ascending= False).head(2))\n",
    "\n",
    "plt.figure(figsize=(20,10))\n",
    "time = steam['Release date']\n",
    "players_count = steam['Current players'] \n",
    "sns.lineplot(x = time, y = players_count)\n",
    "plt.show()\n",
    "\n",
    "print('After analysing the data, there is no evidance that there is increase in the current players as the time goes, Though we can see there is sudden huge rise of current players in \\'2012-08-21\\' for the game \\'Counter-Strike: Global Offensive\\' with the maximum current player of 736875, another surge of player after this is for the game called \\'Dota 2\\' with the maximum current players of \\'649690\\' on the date of \\'2013-07-09\\'.')"
   ]
  },
  {
   "cell_type": "markdown",
   "metadata": {},
   "source": [
    "- Does the review of the game more likely to increase when current nummber of player is more?<a class=\"anchor\" id=\"bi2\"></a>"
   ]
  },
  {
   "cell_type": "code",
   "execution_count": 320,
   "metadata": {},
   "outputs": [
    {
     "data": {
      "image/png": "[encoded data removed]",
      "text/plain": [
       "<Figure size 1440x720 with 1 Axes>"
      ]
     },
     "metadata": {
      "needs_background": "light"
     },
     "output_type": "display_data"
    },
    {
     "data": {
      "image/png": "[encoded data removed]",
      "text/plain": [
       "<Figure size 1440x720 with 1 Axes>"
      ]
     },
     "metadata": {
      "needs_background": "light"
     },
     "output_type": "display_data"
    },
    {
     "name": "stdout",
     "output_type": "stream",
     "text": [
      "From the above analysis we get 0.8479386124540209 of positive corelation also in the scatter plot there is a high positive corelation between between 'Total reviews' and 'Current players'.\n"
     ]
    }
   ],
   "source": [
    "# Standardisation\n",
    "\n",
    "data = steam[['Total reviews', 'Current players']].to_numpy()\n",
    "scaler = StandardScaler()\n",
    "standard_data = scaler.fit_transform(data)\n",
    "\n",
    "plt.figure(figsize=(20,10))\n",
    "x = standard_data[:,0]\n",
    "y = standard_data[:,1]\n",
    "plt.scatter(x,y)\n",
    "plt.ylabel('Current players')\n",
    "plt.xlabel('Total reviews')\n",
    "plt.title('Corelation between Total reviews and Current players')\n",
    "plt.show()\n",
    "plt.figure(figsize=(20,10))\n",
    "x = standard_data[:,0]\n",
    "y = standard_data[:,1]\n",
    "plt.axis([0,3,0,3])\n",
    "plt.scatter(x,y)\n",
    "plt.ylabel('Current players')\n",
    "plt.xlabel('Total reviews')\n",
    "plt.title('zoomed view')\n",
    "plt.show()\n",
    "\n",
    "corr ,p = pearsonr(steam['Total reviews'],steam['Current players'])\n",
    "\n",
    "\n",
    "\n",
    "print('From the above analysis we get ' + str(corr) + ' of positive corelation also in the scatter plot there is a high positive corelation between between \\'Total reviews\\' and \\'Current players\\'.')"
   ]
  },
  {
   "cell_type": "markdown",
   "metadata": {},
   "source": [
    "- Is there any association between Total reviews and Review summary<a class=\"anchor\" id=\"bi3\"></a>"
   ]
  },
  {
   "cell_type": "code",
   "execution_count": 321,
   "metadata": {},
   "outputs": [
    {
     "data": {
      "text/plain": [
       "<AxesSubplot:xlabel='Review summary', ylabel='Total reviews'>"
      ]
     },
     "execution_count": 321,
     "metadata": {},
     "output_type": "execute_result"
    },
    {
     "data": {
      "image/png": "[encoded data removed]",
      "text/plain": [
       "<Figure size 1440x720 with 1 Axes>"
      ]
     },
     "metadata": {
      "needs_background": "light"
     },
     "output_type": "display_data"
    }
   ],
   "source": [
    "plt.figure(figsize=(20,10))\n",
    "sns.boxplot(data = steam, x = 'Review summary', y = 'Total reviews')"
   ]
  },
  {
   "cell_type": "code",
   "execution_count": 328,
   "metadata": {},
   "outputs": [
    {
     "name": "stderr",
     "output_type": "stream",
     "text": [
      "C:\\Users\\Envy\\miniconda3\\lib\\site-packages\\matplotlib\\axes\\_axes.py:6767: RuntimeWarning: invalid value encountered in true_divide\n",
      "  tops = (tops / np.diff(bins)) / tops[-1].sum()\n"
     ]
    },
    {
     "data": {
      "image/png": "[encoded data removed]",
      "text/plain": [
       "<Figure size 1440x720 with 1 Axes>"
      ]
     },
     "metadata": {
      "needs_background": "light"
     },
     "output_type": "display_data"
    },
    {
     "name": "stdout",
     "output_type": "stream",
     "text": [
      "By looking at the above analysis it seems all reviews almost same therefore the total reviews and review summary are not associated.\n"
     ]
    }
   ],
   "source": [
    "OP = steam['Total reviews'][steam['Review summary'] == 'Overwhelmingly Positive']\n",
    "MP = steam['Total reviews'][steam['Review summary'] == 'Mosltly Positive']\n",
    "VP = steam['Total reviews'][steam['Review summary'] == 'Very Positive']\n",
    "Mix = steam['Total reviews'][steam['Review summary'] == 'Mixed']\n",
    "\n",
    "\n",
    "plt.figure(figsize=(20,10))\n",
    "plt.hist(OP , color=\"blue\", label=\"Overwhelmingly Positive\", density= True,stacked = True, alpha=0.5)\n",
    "plt.hist(MP , color=\"red\", label=\"Mosltly Positive\", density= True,stacked = True, alpha=0.5)\n",
    "plt.hist(VP , color=\"green\", label=\"Very Positive\", density= True,stacked = True, alpha=0.5)\n",
    "plt.hist(Mix , color=\"yellow\", label=\"Mixed\", density= True,stacked = True, alpha=0.5)\n",
    "plt.legend()\n",
    "plt.show()\n",
    "\n",
    "print('By looking at the above analysis it seems all reviews almost same therefore the total reviews and review summary are not associated.')"
   ]
  },
  {
   "cell_type": "markdown",
   "metadata": {},
   "source": [
    "# Feature engineering\n",
    "### Tags\n",
    "- One-Hot-Encoding for tags variable."
   ]
  },
  {
   "cell_type": "code",
   "execution_count": 323,
   "metadata": {},
   "outputs": [
    {
     "data": {
      "text/plain": [
       "0     FPS:Shooter:Multiplayer:Competitive:Action:Tea...\n",
       "1     Free to Play:MOBA:Multiplayer:Strategy:eSports...\n",
       "2     Massively Multiplayer:Open World:MMORPG:Advent...\n",
       "3     Free to Play:Battle Royale:Multiplayer:Shooter...\n",
       "4     Free to Play:Hero Shooter:Multiplayer:FPS:Shoo...\n",
       "5     Survival:Shooter:Multiplayer:Battle Royale:FPS...\n",
       "6     Survival:Crafting:Multiplayer:Open World:Open ...\n",
       "7     PvE:PvP:Demons:MMORPG:Martial Arts:RPG:Action ...\n",
       "8     Open World:Action:Multiplayer:Automobile Sim:C...\n",
       "9     Free to Play:Action RPG:Hack and Slash:RPG:Mul...\n",
       "10    Horror:Survival Horror:Multiplayer:Online Co-O...\n",
       "11    Free to Play:PvP:Open World:FPS:Looter Shooter...\n",
       "12    Multiplayer:Soccer:Competitive:Sports:Racing:T...\n",
       "13                                             no_genre\n",
       "14    Open World Survival Craft:Survival:Open World:...\n",
       "Name: Tags, dtype: object"
      ]
     },
     "execution_count": 323,
     "metadata": {},
     "output_type": "execute_result"
    }
   ],
   "source": [
    "# replacing nan values to 'no_genre'\n",
    "only_tags=steam.loc[:,\"Tags\"]\n",
    "only_tags.fillna(value='no_genre',inplace=True)\n",
    "only_tags.head(15)"
   ]
  },
  {
   "cell_type": "code",
   "execution_count": 324,
   "metadata": {},
   "outputs": [
    {
     "name": "stdout",
     "output_type": "stream",
     "text": [
      "['1980s', \"1990's\", '2D', '2D Fighter', '2D Platformer', '3D', '3D Platformer', '3D Vision', '4 Player Local', '4X', 'Action', 'Action RPG', 'Action RTS', 'Action Roguelike', 'Action-Adventure', 'Addictive', 'Adventure', 'Agriculture', 'Alternate History', 'Animation & Modeling', 'Anime', 'Arcade', 'Artificial Intelligence', 'Assassin', 'Atmospheric', 'Audio Production', 'Automation', 'Automobile Sim', 'Base Building', 'Basketball', 'Battle Royale', 'Beautiful', 'Blood', 'Building', 'Bullet Hell', 'CRPG', 'Capitalism', 'Card Game', 'Cartoon', 'Cartoony', 'Casual', 'Character Customization', 'Choices Matter', 'Choose Your Own Adventure', 'Cinematic', 'City Builder', 'Class-Based', 'Classic', 'Clicker', 'Co-op', 'Co-op Campaign', 'Cold War', 'Collectathon', 'Colony Sim', 'Colorful', 'Combat', 'Comedy', 'Competitive', 'Controller', 'Cooking', 'Crafting', 'Crime', 'Cute', 'Cyberpunk', 'Dark', 'Dark Comedy', 'Dark Fantasy', 'Dating Sim', 'Deckbuilding', 'Demons', 'Design & Illustration', 'Destruction', 'Detective', 'Difficult', 'Dinosaurs', 'Diplomacy', 'Dragons', 'Driving', 'Dungeon Crawler', 'Dungeons & Dragons', 'Early Access', 'Economy', 'Education', 'Exploration', 'FPS', 'Family Friendly', 'Fantasy', 'Farming Sim', 'Fast-Paced', 'Female Protagonist', 'Fighting', 'First-Person', 'Fishing', 'Flight', 'Football', 'Foreign', 'Free to Play', 'Funny', 'Futuristic', 'Gambling', 'Game Development', 'Games Workshop', 'Gore', 'Grand Strategy', 'Great Soundtrack', 'Gun Customization', 'Hack and Slash', 'Hand-drawn', 'Heist', 'Hentai', 'Hero Shooter', 'Hex Grid', 'Historical', 'Horror', 'Horses', 'Hunting', 'Idler', 'Immersive Sim', 'Indie', 'Inventory Management', 'Investigation', 'Isometric', 'JRPG', 'LGBTQ+', 'Level Editor', 'Life Sim', 'Local Co-Op', 'Local Multiplayer', 'Loot', 'Looter Shooter', 'Lore-Rich', 'Lovecraftian', 'MMORPG', 'MOBA', 'Magic', 'Management', 'Martial Arts', 'Massively Multiplayer', 'Mature', 'Medieval', 'Memes', 'Military', 'Mod', 'Moddable', 'Modern', 'Multiplayer', 'Multiple Endings', 'Music', 'Mystery', 'Mythology', 'NSFW', 'Naval', 'Ninja', 'Nonlinear', 'Nudity', 'Old School', 'Online Co-Op', 'Open World', 'Open World Survival Craft', 'Parkour', 'Party-Based RPG', 'Perma Death', 'Photo Editing', 'Physics', 'Pirates', 'Pixel Graphics', 'Platformer', 'Point & Click', 'Political', 'Post-apocalyptic', 'Precision Platformer', 'Procedural Generation', 'Psychological Horror', 'PvE', 'PvP', 'RPG', 'RTS', 'Racing', 'Real Time Tactics', 'Real-Time', 'Real-Time with Pause', 'Realistic', 'Relaxing', 'Remake', 'Replay Value', 'Resource Management', 'Rhythm', 'Robots', 'Roguelike', 'Roguelite', 'Romance', 'Runner', 'Sailing', 'Sandbox', 'Sci-fi', 'Science', 'Score Attack', 'Sexual Content', 'Shooter', 'Side Scroller', 'Simulation', 'Singleplayer', 'Soccer', 'Software', 'Souls-like', 'Soundtrack', 'Space', 'Space Sim', 'Split Screen', 'Sports', 'Stealth', 'Story Rich', 'Strategy', 'Strategy RPG', 'Stylized', 'Supernatural', 'Survival', 'Survival Horror', 'Swordplay', 'Tabletop', 'Tactical', 'Tactical RPG', 'Tanks', 'Team-Based', 'Text-Based', 'Third Person', 'Third-Person Shooter', 'Thriller', 'Touch-Friendly', 'Tower Defense', 'TrackIR', 'Trading', 'Trading Card Game', 'Trains', 'Transportation', 'Turn-Based', 'Turn-Based Combat', 'Turn-Based Strategy', 'Utilities', 'VR', 'Violent', 'Voxel', 'Walking Simulator', 'War', 'Warhammer 40K', 'Western', 'World War II', 'Zombies', 'eSports']\n"
     ]
    }
   ],
   "source": [
    "all_tags=set()\n",
    "for tag_list in only_tags:\n",
    "    iter = tag_list.split(':')\n",
    "    for new_tag in iter:\n",
    "        all_tags.add(new_tag)\n",
    "all_tags=list(all_tags)\n",
    "all_tags.sort()\n",
    "all_tags.remove('no_genre')\n",
    "print(all_tags)"
   ]
  },
  {
   "cell_type": "code",
   "execution_count": 325,
   "metadata": {},
   "outputs": [
    {
     "name": "stdout",
     "output_type": "stream",
     "text": [
      "Steam id                  0\n",
      "Game                      0\n",
      "Current players           0\n",
      "Peak players today        0\n",
      "Release date              0\n",
      "Release year              0\n",
      "Review summary            0\n",
      "Review summary encoded    0\n",
      "Total reviews             0\n",
      "Tags                      0\n",
      "dtype: int64\n"
     ]
    }
   ],
   "source": [
    "tag_df = pd.DataFrame(columns=all_tags)\n",
    "tag_df.tail(10)\n",
    "print(steam.isna().sum())"
   ]
  },
  {
   "cell_type": "code",
   "execution_count": 326,
   "metadata": {},
   "outputs": [
    {
     "data": {
      "text/html": [
       "<div>\n",
       "<style scoped>\n",
       "    .dataframe tbody tr th:only-of-type {\n",
       "        vertical-align: middle;\n",
       "    }\n",
       "\n",
       "    .dataframe tbody tr th {\n",
       "        vertical-align: top;\n",
       "    }\n",
       "\n",
       "    .dataframe thead th {\n",
       "        text-align: right;\n",
       "    }\n",
       "</style>\n",
       "<table border=\"1\" class=\"dataframe\">\n",
       "  <thead>\n",
       "    <tr style=\"text-align: right;\">\n",
       "      <th></th>\n",
       "      <th>Steam id</th>\n",
       "      <th>Game</th>\n",
       "      <th>Current players</th>\n",
       "      <th>Peak players today</th>\n",
       "      <th>Release date</th>\n",
       "      <th>Release year</th>\n",
       "      <th>Review summary</th>\n",
       "      <th>Review summary encoded</th>\n",
       "      <th>Total reviews</th>\n",
       "      <th>Tags</th>\n",
       "      <th>...</th>\n",
       "      <th>VR</th>\n",
       "      <th>Violent</th>\n",
       "      <th>Voxel</th>\n",
       "      <th>Walking Simulator</th>\n",
       "      <th>War</th>\n",
       "      <th>Warhammer 40K</th>\n",
       "      <th>Western</th>\n",
       "      <th>World War II</th>\n",
       "      <th>Zombies</th>\n",
       "      <th>eSports</th>\n",
       "    </tr>\n",
       "  </thead>\n",
       "  <tbody>\n",
       "    <tr>\n",
       "      <th>0</th>\n",
       "      <td>730</td>\n",
       "      <td>Counter-Strike: Global Offensive</td>\n",
       "      <td>736875</td>\n",
       "      <td>775266</td>\n",
       "      <td>2012-08-21</td>\n",
       "      <td>2012</td>\n",
       "      <td>Very Positive</td>\n",
       "      <td>1</td>\n",
       "      <td>5993058</td>\n",
       "      <td>FPS:Shooter:Multiplayer:Competitive:Action:Tea...</td>\n",
       "      <td>...</td>\n",
       "      <td>0</td>\n",
       "      <td>0</td>\n",
       "      <td>0</td>\n",
       "      <td>0</td>\n",
       "      <td>0</td>\n",
       "      <td>0</td>\n",
       "      <td>0</td>\n",
       "      <td>0</td>\n",
       "      <td>0</td>\n",
       "      <td>0</td>\n",
       "    </tr>\n",
       "    <tr>\n",
       "      <th>1</th>\n",
       "      <td>570</td>\n",
       "      <td>Dota 2</td>\n",
       "      <td>580933</td>\n",
       "      <td>649690</td>\n",
       "      <td>2013-07-09</td>\n",
       "      <td>2013</td>\n",
       "      <td>Very Positive</td>\n",
       "      <td>1</td>\n",
       "      <td>1599180</td>\n",
       "      <td>Free to Play:MOBA:Multiplayer:Strategy:eSports...</td>\n",
       "      <td>...</td>\n",
       "      <td>0</td>\n",
       "      <td>0</td>\n",
       "      <td>0</td>\n",
       "      <td>0</td>\n",
       "      <td>0</td>\n",
       "      <td>0</td>\n",
       "      <td>0</td>\n",
       "      <td>0</td>\n",
       "      <td>0</td>\n",
       "      <td>0</td>\n",
       "    </tr>\n",
       "    <tr>\n",
       "      <th>2</th>\n",
       "      <td>1063730</td>\n",
       "      <td>New World</td>\n",
       "      <td>243815</td>\n",
       "      <td>307146</td>\n",
       "      <td>2021-09-28</td>\n",
       "      <td>2021</td>\n",
       "      <td>Mostly Positive</td>\n",
       "      <td>2</td>\n",
       "      <td>145931</td>\n",
       "      <td>Massively Multiplayer:Open World:MMORPG:Advent...</td>\n",
       "      <td>...</td>\n",
       "      <td>0</td>\n",
       "      <td>0</td>\n",
       "      <td>0</td>\n",
       "      <td>0</td>\n",
       "      <td>0</td>\n",
       "      <td>0</td>\n",
       "      <td>0</td>\n",
       "      <td>0</td>\n",
       "      <td>0</td>\n",
       "      <td>0</td>\n",
       "    </tr>\n",
       "    <tr>\n",
       "      <th>3</th>\n",
       "      <td>1172470</td>\n",
       "      <td>Apex Legends</td>\n",
       "      <td>121313</td>\n",
       "      <td>245235</td>\n",
       "      <td>2020-11-04</td>\n",
       "      <td>2020</td>\n",
       "      <td>Very Positive</td>\n",
       "      <td>1</td>\n",
       "      <td>338236</td>\n",
       "      <td>Free to Play:Battle Royale:Multiplayer:Shooter...</td>\n",
       "      <td>...</td>\n",
       "      <td>0</td>\n",
       "      <td>0</td>\n",
       "      <td>0</td>\n",
       "      <td>0</td>\n",
       "      <td>0</td>\n",
       "      <td>0</td>\n",
       "      <td>0</td>\n",
       "      <td>0</td>\n",
       "      <td>0</td>\n",
       "      <td>0</td>\n",
       "    </tr>\n",
       "    <tr>\n",
       "      <th>4</th>\n",
       "      <td>440</td>\n",
       "      <td>Team Fortress 2</td>\n",
       "      <td>104477</td>\n",
       "      <td>111884</td>\n",
       "      <td>2007-10-10</td>\n",
       "      <td>2007</td>\n",
       "      <td>Very Positive</td>\n",
       "      <td>1</td>\n",
       "      <td>821568</td>\n",
       "      <td>Free to Play:Hero Shooter:Multiplayer:FPS:Shoo...</td>\n",
       "      <td>...</td>\n",
       "      <td>0</td>\n",
       "      <td>0</td>\n",
       "      <td>0</td>\n",
       "      <td>0</td>\n",
       "      <td>0</td>\n",
       "      <td>0</td>\n",
       "      <td>0</td>\n",
       "      <td>0</td>\n",
       "      <td>0</td>\n",
       "      <td>0</td>\n",
       "    </tr>\n",
       "    <tr>\n",
       "      <th>5</th>\n",
       "      <td>578080</td>\n",
       "      <td>PUBG: BATTLEGROUNDS</td>\n",
       "      <td>103354</td>\n",
       "      <td>293759</td>\n",
       "      <td>2017-12-21</td>\n",
       "      <td>2017</td>\n",
       "      <td>Mixed</td>\n",
       "      <td>0</td>\n",
       "      <td>1530629</td>\n",
       "      <td>Survival:Shooter:Multiplayer:Battle Royale:FPS...</td>\n",
       "      <td>...</td>\n",
       "      <td>0</td>\n",
       "      <td>0</td>\n",
       "      <td>0</td>\n",
       "      <td>0</td>\n",
       "      <td>0</td>\n",
       "      <td>0</td>\n",
       "      <td>0</td>\n",
       "      <td>0</td>\n",
       "      <td>0</td>\n",
       "      <td>0</td>\n",
       "    </tr>\n",
       "    <tr>\n",
       "      <th>6</th>\n",
       "      <td>252490</td>\n",
       "      <td>Rust</td>\n",
       "      <td>86156</td>\n",
       "      <td>110489</td>\n",
       "      <td>2018-02-08</td>\n",
       "      <td>2018</td>\n",
       "      <td>Very Positive</td>\n",
       "      <td>1</td>\n",
       "      <td>554535</td>\n",
       "      <td>Survival:Crafting:Multiplayer:Open World:Open ...</td>\n",
       "      <td>...</td>\n",
       "      <td>0</td>\n",
       "      <td>0</td>\n",
       "      <td>0</td>\n",
       "      <td>0</td>\n",
       "      <td>0</td>\n",
       "      <td>0</td>\n",
       "      <td>0</td>\n",
       "      <td>0</td>\n",
       "      <td>0</td>\n",
       "      <td>0</td>\n",
       "    </tr>\n",
       "    <tr>\n",
       "      <th>7</th>\n",
       "      <td>1623660</td>\n",
       "      <td>MIR4</td>\n",
       "      <td>82361</td>\n",
       "      <td>91872</td>\n",
       "      <td>2021-08-25</td>\n",
       "      <td>2021</td>\n",
       "      <td>Mixed</td>\n",
       "      <td>0</td>\n",
       "      <td>5344</td>\n",
       "      <td>PvE:PvP:Demons:MMORPG:Martial Arts:RPG:Action ...</td>\n",
       "      <td>...</td>\n",
       "      <td>0</td>\n",
       "      <td>0</td>\n",
       "      <td>0</td>\n",
       "      <td>0</td>\n",
       "      <td>0</td>\n",
       "      <td>0</td>\n",
       "      <td>0</td>\n",
       "      <td>0</td>\n",
       "      <td>0</td>\n",
       "      <td>0</td>\n",
       "    </tr>\n",
       "    <tr>\n",
       "      <th>8</th>\n",
       "      <td>271590</td>\n",
       "      <td>Grand Theft Auto V</td>\n",
       "      <td>82189</td>\n",
       "      <td>102182</td>\n",
       "      <td>2015-04-13</td>\n",
       "      <td>2015</td>\n",
       "      <td>Very Positive</td>\n",
       "      <td>1</td>\n",
       "      <td>1102837</td>\n",
       "      <td>Open World:Action:Multiplayer:Automobile Sim:C...</td>\n",
       "      <td>...</td>\n",
       "      <td>0</td>\n",
       "      <td>0</td>\n",
       "      <td>0</td>\n",
       "      <td>0</td>\n",
       "      <td>0</td>\n",
       "      <td>0</td>\n",
       "      <td>0</td>\n",
       "      <td>0</td>\n",
       "      <td>0</td>\n",
       "      <td>0</td>\n",
       "    </tr>\n",
       "    <tr>\n",
       "      <th>9</th>\n",
       "      <td>238960</td>\n",
       "      <td>Path of Exile</td>\n",
       "      <td>56781</td>\n",
       "      <td>66571</td>\n",
       "      <td>2013-10-23</td>\n",
       "      <td>2013</td>\n",
       "      <td>Very Positive</td>\n",
       "      <td>1</td>\n",
       "      <td>172981</td>\n",
       "      <td>Free to Play:Action RPG:Hack and Slash:RPG:Mul...</td>\n",
       "      <td>...</td>\n",
       "      <td>0</td>\n",
       "      <td>0</td>\n",
       "      <td>0</td>\n",
       "      <td>0</td>\n",
       "      <td>0</td>\n",
       "      <td>0</td>\n",
       "      <td>0</td>\n",
       "      <td>0</td>\n",
       "      <td>0</td>\n",
       "      <td>0</td>\n",
       "    </tr>\n",
       "  </tbody>\n",
       "</table>\n",
       "<p>10 rows × 259 columns</p>\n",
       "</div>"
      ],
      "text/plain": [
       "   Steam id                              Game  Current players  \\\n",
       "0       730  Counter-Strike: Global Offensive           736875   \n",
       "1       570                            Dota 2           580933   \n",
       "2   1063730                         New World           243815   \n",
       "3   1172470                      Apex Legends           121313   \n",
       "4       440                   Team Fortress 2           104477   \n",
       "5    578080               PUBG: BATTLEGROUNDS           103354   \n",
       "6    252490                              Rust            86156   \n",
       "7   1623660                              MIR4            82361   \n",
       "8    271590                Grand Theft Auto V            82189   \n",
       "9    238960                     Path of Exile            56781   \n",
       "\n",
       "   Peak players today Release date  Release year   Review summary  \\\n",
       "0              775266   2012-08-21          2012    Very Positive   \n",
       "1              649690   2013-07-09          2013    Very Positive   \n",
       "2              307146   2021-09-28          2021  Mostly Positive   \n",
       "3              245235   2020-11-04          2020    Very Positive   \n",
       "4              111884   2007-10-10          2007    Very Positive   \n",
       "5              293759   2017-12-21          2017            Mixed   \n",
       "6              110489   2018-02-08          2018    Very Positive   \n",
       "7               91872   2021-08-25          2021            Mixed   \n",
       "8              102182   2015-04-13          2015    Very Positive   \n",
       "9               66571   2013-10-23          2013    Very Positive   \n",
       "\n",
       "   Review summary encoded  Total reviews  \\\n",
       "0                       1        5993058   \n",
       "1                       1        1599180   \n",
       "2                       2         145931   \n",
       "3                       1         338236   \n",
       "4                       1         821568   \n",
       "5                       0        1530629   \n",
       "6                       1         554535   \n",
       "7                       0           5344   \n",
       "8                       1        1102837   \n",
       "9                       1         172981   \n",
       "\n",
       "                                                Tags  ... VR Violent Voxel  \\\n",
       "0  FPS:Shooter:Multiplayer:Competitive:Action:Tea...  ...  0       0     0   \n",
       "1  Free to Play:MOBA:Multiplayer:Strategy:eSports...  ...  0       0     0   \n",
       "2  Massively Multiplayer:Open World:MMORPG:Advent...  ...  0       0     0   \n",
       "3  Free to Play:Battle Royale:Multiplayer:Shooter...  ...  0       0     0   \n",
       "4  Free to Play:Hero Shooter:Multiplayer:FPS:Shoo...  ...  0       0     0   \n",
       "5  Survival:Shooter:Multiplayer:Battle Royale:FPS...  ...  0       0     0   \n",
       "6  Survival:Crafting:Multiplayer:Open World:Open ...  ...  0       0     0   \n",
       "7  PvE:PvP:Demons:MMORPG:Martial Arts:RPG:Action ...  ...  0       0     0   \n",
       "8  Open World:Action:Multiplayer:Automobile Sim:C...  ...  0       0     0   \n",
       "9  Free to Play:Action RPG:Hack and Slash:RPG:Mul...  ...  0       0     0   \n",
       "\n",
       "  Walking Simulator War Warhammer 40K Western World War II Zombies eSports  \n",
       "0                 0   0             0       0            0       0       0  \n",
       "1                 0   0             0       0            0       0       0  \n",
       "2                 0   0             0       0            0       0       0  \n",
       "3                 0   0             0       0            0       0       0  \n",
       "4                 0   0             0       0            0       0       0  \n",
       "5                 0   0             0       0            0       0       0  \n",
       "6                 0   0             0       0            0       0       0  \n",
       "7                 0   0             0       0            0       0       0  \n",
       "8                 0   0             0       0            0       0       0  \n",
       "9                 0   0             0       0            0       0       0  \n",
       "\n",
       "[10 rows x 259 columns]"
      ]
     },
     "metadata": {},
     "output_type": "display_data"
    },
    {
     "name": "stdout",
     "output_type": "stream",
     "text": [
      "Steam id                       int64\n",
      "Game                          object\n",
      "Current players                int64\n",
      "Peak players today             int64\n",
      "Release date          datetime64[ns]\n",
      "                           ...      \n",
      "Warhammer 40K                 object\n",
      "Western                       object\n",
      "World War II                  object\n",
      "Zombies                       object\n",
      "eSports                       object\n",
      "Length: 259, dtype: object\n",
      "Steam id              0\n",
      "Game                  0\n",
      "Current players       0\n",
      "Peak players today    0\n",
      "Release date          0\n",
      "                     ..\n",
      "Warhammer 40K         0\n",
      "Western               0\n",
      "World War II          0\n",
      "Zombies               0\n",
      "eSports               0\n",
      "Length: 259, dtype: int64\n"
     ]
    }
   ],
   "source": [
    "\n",
    "steam_new = pd.concat([steam,tag_df],axis=1)\n",
    "steam_new = steam_new.replace(np.nan, '0')\n",
    "display(steam_new.head(10))\n",
    "print(steam_new.dtypes)\n",
    "print(steam_new.isna().sum())\n"
   ]
  },
  {
   "cell_type": "code",
   "execution_count": 327,
   "metadata": {},
   "outputs": [
    {
     "data": {
      "text/html": [
       "<div>\n",
       "<style scoped>\n",
       "    .dataframe tbody tr th:only-of-type {\n",
       "        vertical-align: middle;\n",
       "    }\n",
       "\n",
       "    .dataframe tbody tr th {\n",
       "        vertical-align: top;\n",
       "    }\n",
       "\n",
       "    .dataframe thead th {\n",
       "        text-align: right;\n",
       "    }\n",
       "</style>\n",
       "<table border=\"1\" class=\"dataframe\">\n",
       "  <thead>\n",
       "    <tr style=\"text-align: right;\">\n",
       "      <th></th>\n",
       "      <th>Steam id</th>\n",
       "      <th>Game</th>\n",
       "      <th>Current players</th>\n",
       "      <th>Peak players today</th>\n",
       "      <th>Release date</th>\n",
       "      <th>Release year</th>\n",
       "      <th>Review summary</th>\n",
       "      <th>Review summary encoded</th>\n",
       "      <th>Total reviews</th>\n",
       "      <th>Tags</th>\n",
       "      <th>...</th>\n",
       "      <th>VR</th>\n",
       "      <th>Violent</th>\n",
       "      <th>Voxel</th>\n",
       "      <th>Walking Simulator</th>\n",
       "      <th>War</th>\n",
       "      <th>Warhammer 40K</th>\n",
       "      <th>Western</th>\n",
       "      <th>World War II</th>\n",
       "      <th>Zombies</th>\n",
       "      <th>eSports</th>\n",
       "    </tr>\n",
       "  </thead>\n",
       "  <tbody>\n",
       "    <tr>\n",
       "      <th>90</th>\n",
       "      <td>632360</td>\n",
       "      <td>Risk of Rain 2</td>\n",
       "      <td>8220</td>\n",
       "      <td>11724</td>\n",
       "      <td>2020-08-11</td>\n",
       "      <td>2020</td>\n",
       "      <td>Overwhelmingly Positive</td>\n",
       "      <td>3</td>\n",
       "      <td>112385</td>\n",
       "      <td>Third-Person Shooter:Action Roguelike:Multipla...</td>\n",
       "      <td>...</td>\n",
       "      <td>0</td>\n",
       "      <td>0</td>\n",
       "      <td>0</td>\n",
       "      <td>0</td>\n",
       "      <td>0</td>\n",
       "      <td>0</td>\n",
       "      <td>0</td>\n",
       "      <td>0</td>\n",
       "      <td>0</td>\n",
       "      <td>0</td>\n",
       "    </tr>\n",
       "    <tr>\n",
       "      <th>91</th>\n",
       "      <td>242760</td>\n",
       "      <td>The Forest</td>\n",
       "      <td>7918</td>\n",
       "      <td>11706</td>\n",
       "      <td>2018-04-30</td>\n",
       "      <td>2018</td>\n",
       "      <td>Very Positive</td>\n",
       "      <td>1</td>\n",
       "      <td>264327</td>\n",
       "      <td>Open World Survival Craft:Survival:Open World:...</td>\n",
       "      <td>...</td>\n",
       "      <td>0</td>\n",
       "      <td>0</td>\n",
       "      <td>0</td>\n",
       "      <td>0</td>\n",
       "      <td>0</td>\n",
       "      <td>0</td>\n",
       "      <td>0</td>\n",
       "      <td>0</td>\n",
       "      <td>1</td>\n",
       "      <td>0</td>\n",
       "    </tr>\n",
       "    <tr>\n",
       "      <th>92</th>\n",
       "      <td>284160</td>\n",
       "      <td>BeamNG.drive</td>\n",
       "      <td>7874</td>\n",
       "      <td>10572</td>\n",
       "      <td>2015-05-29</td>\n",
       "      <td>2015</td>\n",
       "      <td>Overwhelmingly Positive</td>\n",
       "      <td>3</td>\n",
       "      <td>85999</td>\n",
       "      <td>Simulation:Driving:Physics:Destruction:Automob...</td>\n",
       "      <td>...</td>\n",
       "      <td>0</td>\n",
       "      <td>0</td>\n",
       "      <td>0</td>\n",
       "      <td>0</td>\n",
       "      <td>0</td>\n",
       "      <td>0</td>\n",
       "      <td>0</td>\n",
       "      <td>0</td>\n",
       "      <td>0</td>\n",
       "      <td>0</td>\n",
       "    </tr>\n",
       "    <tr>\n",
       "      <th>93</th>\n",
       "      <td>1293830</td>\n",
       "      <td>Forza Horizon 4</td>\n",
       "      <td>7606</td>\n",
       "      <td>9552</td>\n",
       "      <td>2021-03-09</td>\n",
       "      <td>2021</td>\n",
       "      <td>Very Positive</td>\n",
       "      <td>1</td>\n",
       "      <td>69892</td>\n",
       "      <td>Racing:Open World:Driving:Multiplayer:Online C...</td>\n",
       "      <td>...</td>\n",
       "      <td>0</td>\n",
       "      <td>0</td>\n",
       "      <td>0</td>\n",
       "      <td>0</td>\n",
       "      <td>0</td>\n",
       "      <td>0</td>\n",
       "      <td>0</td>\n",
       "      <td>0</td>\n",
       "      <td>0</td>\n",
       "      <td>0</td>\n",
       "    </tr>\n",
       "    <tr>\n",
       "      <th>94</th>\n",
       "      <td>1184370</td>\n",
       "      <td>Pathfinder: Wrath of the Righteous</td>\n",
       "      <td>7182</td>\n",
       "      <td>10242</td>\n",
       "      <td>2021-09-02</td>\n",
       "      <td>2021</td>\n",
       "      <td>Very Positive</td>\n",
       "      <td>1</td>\n",
       "      <td>9550</td>\n",
       "      <td>CRPG:Story Rich:Tactical RPG:RPG:Character Cus...</td>\n",
       "      <td>...</td>\n",
       "      <td>0</td>\n",
       "      <td>0</td>\n",
       "      <td>0</td>\n",
       "      <td>0</td>\n",
       "      <td>0</td>\n",
       "      <td>0</td>\n",
       "      <td>0</td>\n",
       "      <td>0</td>\n",
       "      <td>0</td>\n",
       "      <td>0</td>\n",
       "    </tr>\n",
       "    <tr>\n",
       "      <th>95</th>\n",
       "      <td>1286830</td>\n",
       "      <td>STAR WARS™: The Old Republic™</td>\n",
       "      <td>7104</td>\n",
       "      <td>9345</td>\n",
       "      <td>2020-07-21</td>\n",
       "      <td>2020</td>\n",
       "      <td>Very Positive</td>\n",
       "      <td>1</td>\n",
       "      <td>33098</td>\n",
       "      <td>Free to Play:MMORPG:Character Customization:Mu...</td>\n",
       "      <td>...</td>\n",
       "      <td>0</td>\n",
       "      <td>0</td>\n",
       "      <td>0</td>\n",
       "      <td>0</td>\n",
       "      <td>0</td>\n",
       "      <td>0</td>\n",
       "      <td>0</td>\n",
       "      <td>0</td>\n",
       "      <td>0</td>\n",
       "      <td>0</td>\n",
       "    </tr>\n",
       "    <tr>\n",
       "      <th>96</th>\n",
       "      <td>1644960</td>\n",
       "      <td>NBA 2K22</td>\n",
       "      <td>7020</td>\n",
       "      <td>13139</td>\n",
       "      <td>2021-09-09</td>\n",
       "      <td>2021</td>\n",
       "      <td>Mixed</td>\n",
       "      <td>0</td>\n",
       "      <td>6266</td>\n",
       "      <td>Sports:Basketball:Simulation:eSports:Realistic...</td>\n",
       "      <td>...</td>\n",
       "      <td>0</td>\n",
       "      <td>0</td>\n",
       "      <td>0</td>\n",
       "      <td>0</td>\n",
       "      <td>0</td>\n",
       "      <td>0</td>\n",
       "      <td>0</td>\n",
       "      <td>0</td>\n",
       "      <td>0</td>\n",
       "      <td>1</td>\n",
       "    </tr>\n",
       "    <tr>\n",
       "      <th>97</th>\n",
       "      <td>244210</td>\n",
       "      <td>Assetto Corsa</td>\n",
       "      <td>6965</td>\n",
       "      <td>8707</td>\n",
       "      <td>2014-12-19</td>\n",
       "      <td>2014</td>\n",
       "      <td>Very Positive</td>\n",
       "      <td>1</td>\n",
       "      <td>42497</td>\n",
       "      <td>Racing:Automobile Sim:Simulation:Driving:Reali...</td>\n",
       "      <td>...</td>\n",
       "      <td>1</td>\n",
       "      <td>0</td>\n",
       "      <td>0</td>\n",
       "      <td>0</td>\n",
       "      <td>0</td>\n",
       "      <td>0</td>\n",
       "      <td>0</td>\n",
       "      <td>0</td>\n",
       "      <td>0</td>\n",
       "      <td>0</td>\n",
       "    </tr>\n",
       "    <tr>\n",
       "      <th>98</th>\n",
       "      <td>275850</td>\n",
       "      <td>No Man's Sky</td>\n",
       "      <td>6963</td>\n",
       "      <td>10122</td>\n",
       "      <td>2016-08-12</td>\n",
       "      <td>2016</td>\n",
       "      <td>Mostly Positive</td>\n",
       "      <td>2</td>\n",
       "      <td>168792</td>\n",
       "      <td>Open World:Open World Survival Craft:Space:Exp...</td>\n",
       "      <td>...</td>\n",
       "      <td>0</td>\n",
       "      <td>0</td>\n",
       "      <td>0</td>\n",
       "      <td>0</td>\n",
       "      <td>0</td>\n",
       "      <td>0</td>\n",
       "      <td>0</td>\n",
       "      <td>0</td>\n",
       "      <td>0</td>\n",
       "      <td>0</td>\n",
       "    </tr>\n",
       "    <tr>\n",
       "      <th>99</th>\n",
       "      <td>1238810</td>\n",
       "      <td>Battlefield™ V</td>\n",
       "      <td>6724</td>\n",
       "      <td>33310</td>\n",
       "      <td>2020-10-22</td>\n",
       "      <td>2020</td>\n",
       "      <td>Mostly Positive</td>\n",
       "      <td>2</td>\n",
       "      <td>68109</td>\n",
       "      <td>FPS:World War II:Shooter:Multiplayer:War:Singl...</td>\n",
       "      <td>...</td>\n",
       "      <td>0</td>\n",
       "      <td>1</td>\n",
       "      <td>0</td>\n",
       "      <td>0</td>\n",
       "      <td>1</td>\n",
       "      <td>0</td>\n",
       "      <td>0</td>\n",
       "      <td>1</td>\n",
       "      <td>0</td>\n",
       "      <td>0</td>\n",
       "    </tr>\n",
       "  </tbody>\n",
       "</table>\n",
       "<p>10 rows × 259 columns</p>\n",
       "</div>"
      ],
      "text/plain": [
       "    Steam id                                Game  Current players  \\\n",
       "90    632360                      Risk of Rain 2             8220   \n",
       "91    242760                          The Forest             7918   \n",
       "92    284160                        BeamNG.drive             7874   \n",
       "93   1293830                     Forza Horizon 4             7606   \n",
       "94   1184370  Pathfinder: Wrath of the Righteous             7182   \n",
       "95   1286830       STAR WARS™: The Old Republic™             7104   \n",
       "96   1644960                            NBA 2K22             7020   \n",
       "97    244210                       Assetto Corsa             6965   \n",
       "98    275850                        No Man's Sky             6963   \n",
       "99   1238810                      Battlefield™ V             6724   \n",
       "\n",
       "    Peak players today Release date  Release year           Review summary  \\\n",
       "90               11724   2020-08-11          2020  Overwhelmingly Positive   \n",
       "91               11706   2018-04-30          2018            Very Positive   \n",
       "92               10572   2015-05-29          2015  Overwhelmingly Positive   \n",
       "93                9552   2021-03-09          2021            Very Positive   \n",
       "94               10242   2021-09-02          2021            Very Positive   \n",
       "95                9345   2020-07-21          2020            Very Positive   \n",
       "96               13139   2021-09-09          2021                    Mixed   \n",
       "97                8707   2014-12-19          2014            Very Positive   \n",
       "98               10122   2016-08-12          2016          Mostly Positive   \n",
       "99               33310   2020-10-22          2020          Mostly Positive   \n",
       "\n",
       "    Review summary encoded  Total reviews  \\\n",
       "90                       3         112385   \n",
       "91                       1         264327   \n",
       "92                       3          85999   \n",
       "93                       1          69892   \n",
       "94                       1           9550   \n",
       "95                       1          33098   \n",
       "96                       0           6266   \n",
       "97                       1          42497   \n",
       "98                       2         168792   \n",
       "99                       2          68109   \n",
       "\n",
       "                                                 Tags  ... VR Violent Voxel  \\\n",
       "90  Third-Person Shooter:Action Roguelike:Multipla...  ...  0       0     0   \n",
       "91  Open World Survival Craft:Survival:Open World:...  ...  0       0     0   \n",
       "92  Simulation:Driving:Physics:Destruction:Automob...  ...  0       0     0   \n",
       "93  Racing:Open World:Driving:Multiplayer:Online C...  ...  0       0     0   \n",
       "94  CRPG:Story Rich:Tactical RPG:RPG:Character Cus...  ...  0       0     0   \n",
       "95  Free to Play:MMORPG:Character Customization:Mu...  ...  0       0     0   \n",
       "96  Sports:Basketball:Simulation:eSports:Realistic...  ...  0       0     0   \n",
       "97  Racing:Automobile Sim:Simulation:Driving:Reali...  ...  1       0     0   \n",
       "98  Open World:Open World Survival Craft:Space:Exp...  ...  0       0     0   \n",
       "99  FPS:World War II:Shooter:Multiplayer:War:Singl...  ...  0       1     0   \n",
       "\n",
       "   Walking Simulator War Warhammer 40K Western World War II Zombies eSports  \n",
       "90                 0   0             0       0            0       0       0  \n",
       "91                 0   0             0       0            0       1       0  \n",
       "92                 0   0             0       0            0       0       0  \n",
       "93                 0   0             0       0            0       0       0  \n",
       "94                 0   0             0       0            0       0       0  \n",
       "95                 0   0             0       0            0       0       0  \n",
       "96                 0   0             0       0            0       0       1  \n",
       "97                 0   0             0       0            0       0       0  \n",
       "98                 0   0             0       0            0       0       0  \n",
       "99                 0   1             0       0            1       0       0  \n",
       "\n",
       "[10 rows x 259 columns]"
      ]
     },
     "execution_count": 327,
     "metadata": {},
     "output_type": "execute_result"
    }
   ],
   "source": [
    "for ind,row in enumerate(steam_new.loc[:,'Tags']):\n",
    "    par = row.split(':')\n",
    "    for tag in par:\n",
    "        if(tag in steam_new.columns[8:]):\n",
    "            steam_new.iloc[ind,steam_new.columns.get_loc(tag)]=1\n",
    "steam_new.tail(10)\n",
    "\n",
    "\n",
    "# steam_new.to_excel(\"some_data.xlsx\")"
   ]
  }
 ],
 "metadata": {
  "interpreter": {
   "hash": "d0304816b5591ea11e8165d623acf36e6e106eaa16da4abfa591515c22a03f7d"
  },
  "kernelspec": {
   "display_name": "Python 3.9.5 64-bit ('base': conda)",
   "language": "python",
   "name": "python3"
  },
  "language_info": {
   "codemirror_mode": {
    "name": "ipython",
    "version": 3
   },
   "file_extension": ".py",
   "mimetype": "text/x-python",
   "name": "python",
   "nbconvert_exporter": "python",
   "pygments_lexer": "ipython3",
   "version": "3.9.5"
  },
  "orig_nbformat": 4
 },
 "nbformat": 4,
 "nbformat_minor": 2
}
